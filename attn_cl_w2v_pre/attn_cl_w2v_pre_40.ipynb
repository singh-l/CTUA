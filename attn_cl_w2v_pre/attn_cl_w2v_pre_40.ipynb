{
 "cells": [
  {
   "cell_type": "markdown",
   "metadata": {},
   "source": [
    "<h5> Attention Mechanism Enabled Clustering using pre trained word vectors </h5>"
   ]
  },
  {
   "cell_type": "code",
   "execution_count": 1,
   "metadata": {},
   "outputs": [
    {
     "name": "stderr",
     "output_type": "stream",
     "text": [
      "Using TensorFlow backend.\n",
      "/home/sdin-swt-far-54/miniconda3/envs/taufiq/lib/python3.7/site-packages/tensorflow/python/framework/dtypes.py:516: FutureWarning: Passing (type, 1) or '1type' as a synonym of type is deprecated; in a future version of numpy, it will be understood as (type, (1,)) / '(1,)type'.\n",
      "  _np_qint8 = np.dtype([(\"qint8\", np.int8, 1)])\n",
      "/home/sdin-swt-far-54/miniconda3/envs/taufiq/lib/python3.7/site-packages/tensorflow/python/framework/dtypes.py:517: FutureWarning: Passing (type, 1) or '1type' as a synonym of type is deprecated; in a future version of numpy, it will be understood as (type, (1,)) / '(1,)type'.\n",
      "  _np_quint8 = np.dtype([(\"quint8\", np.uint8, 1)])\n",
      "/home/sdin-swt-far-54/miniconda3/envs/taufiq/lib/python3.7/site-packages/tensorflow/python/framework/dtypes.py:518: FutureWarning: Passing (type, 1) or '1type' as a synonym of type is deprecated; in a future version of numpy, it will be understood as (type, (1,)) / '(1,)type'.\n",
      "  _np_qint16 = np.dtype([(\"qint16\", np.int16, 1)])\n",
      "/home/sdin-swt-far-54/miniconda3/envs/taufiq/lib/python3.7/site-packages/tensorflow/python/framework/dtypes.py:519: FutureWarning: Passing (type, 1) or '1type' as a synonym of type is deprecated; in a future version of numpy, it will be understood as (type, (1,)) / '(1,)type'.\n",
      "  _np_quint16 = np.dtype([(\"quint16\", np.uint16, 1)])\n",
      "/home/sdin-swt-far-54/miniconda3/envs/taufiq/lib/python3.7/site-packages/tensorflow/python/framework/dtypes.py:520: FutureWarning: Passing (type, 1) or '1type' as a synonym of type is deprecated; in a future version of numpy, it will be understood as (type, (1,)) / '(1,)type'.\n",
      "  _np_qint32 = np.dtype([(\"qint32\", np.int32, 1)])\n",
      "/home/sdin-swt-far-54/miniconda3/envs/taufiq/lib/python3.7/site-packages/tensorflow/python/framework/dtypes.py:525: FutureWarning: Passing (type, 1) or '1type' as a synonym of type is deprecated; in a future version of numpy, it will be understood as (type, (1,)) / '(1,)type'.\n",
      "  np_resource = np.dtype([(\"resource\", np.ubyte, 1)])\n",
      "/home/sdin-swt-far-54/miniconda3/envs/taufiq/lib/python3.7/site-packages/tensorboard/compat/tensorflow_stub/dtypes.py:541: FutureWarning: Passing (type, 1) or '1type' as a synonym of type is deprecated; in a future version of numpy, it will be understood as (type, (1,)) / '(1,)type'.\n",
      "  _np_qint8 = np.dtype([(\"qint8\", np.int8, 1)])\n",
      "/home/sdin-swt-far-54/miniconda3/envs/taufiq/lib/python3.7/site-packages/tensorboard/compat/tensorflow_stub/dtypes.py:542: FutureWarning: Passing (type, 1) or '1type' as a synonym of type is deprecated; in a future version of numpy, it will be understood as (type, (1,)) / '(1,)type'.\n",
      "  _np_quint8 = np.dtype([(\"quint8\", np.uint8, 1)])\n",
      "/home/sdin-swt-far-54/miniconda3/envs/taufiq/lib/python3.7/site-packages/tensorboard/compat/tensorflow_stub/dtypes.py:543: FutureWarning: Passing (type, 1) or '1type' as a synonym of type is deprecated; in a future version of numpy, it will be understood as (type, (1,)) / '(1,)type'.\n",
      "  _np_qint16 = np.dtype([(\"qint16\", np.int16, 1)])\n",
      "/home/sdin-swt-far-54/miniconda3/envs/taufiq/lib/python3.7/site-packages/tensorboard/compat/tensorflow_stub/dtypes.py:544: FutureWarning: Passing (type, 1) or '1type' as a synonym of type is deprecated; in a future version of numpy, it will be understood as (type, (1,)) / '(1,)type'.\n",
      "  _np_quint16 = np.dtype([(\"quint16\", np.uint16, 1)])\n",
      "/home/sdin-swt-far-54/miniconda3/envs/taufiq/lib/python3.7/site-packages/tensorboard/compat/tensorflow_stub/dtypes.py:545: FutureWarning: Passing (type, 1) or '1type' as a synonym of type is deprecated; in a future version of numpy, it will be understood as (type, (1,)) / '(1,)type'.\n",
      "  _np_qint32 = np.dtype([(\"qint32\", np.int32, 1)])\n",
      "/home/sdin-swt-far-54/miniconda3/envs/taufiq/lib/python3.7/site-packages/tensorboard/compat/tensorflow_stub/dtypes.py:550: FutureWarning: Passing (type, 1) or '1type' as a synonym of type is deprecated; in a future version of numpy, it will be understood as (type, (1,)) / '(1,)type'.\n",
      "  np_resource = np.dtype([(\"resource\", np.ubyte, 1)])\n"
     ]
    }
   ],
   "source": [
    "# IMPORTS BEGIN\n",
    "import os\n",
    "import re\n",
    "import numpy as np\n",
    "import pandas as pd\n",
    "from bs4 import BeautifulSoup\n",
    "from sklearn.utils import resample \n",
    "from keras import backend as K\n",
    "from keras.models import Model\n",
    "from keras import initializers\n",
    "from keras.engine.topology import Layer\n",
    "from keras.layers import Dense, Input\n",
    "from keras.layers import Embedding, GRU, Bidirectional, TimeDistributed\n",
    "from keras.preprocessing.text import Tokenizer, text_to_word_sequence\n",
    "from keras.utils.np_utils import to_categorical\n",
    "from sklearn.model_selection import train_test_split\n",
    "from nltk import tokenize\n",
    "from sklearn import preprocessing\n",
    "import warnings\n",
    "warnings.filterwarnings(\"ignore\")\n",
    "import pandas as pd\n",
    "import math\n",
    "import numpy as np\n",
    "from gensim.models import Word2Vec\n",
    "from sklearn import metrics\n",
    "from sklearn.cluster import KMeans\n",
    "from sklearn.cluster import AgglomerativeClustering\n",
    "from sklearn.cluster import DBSCAN\n",
    "from sklearn.cluster import MeanShift\n",
    "from sklearn.cluster import Birch\n",
    "from sklearn.cluster import AffinityPropagation\n",
    "from sklearn.cluster import MiniBatchKMeans\n",
    "from sklearn import preprocessing\n",
    "from sklearn.model_selection import ParameterGrid\n",
    "from matplotlib import pyplot\n",
    "from mpl_toolkits.mplot3d import Axes3D\n",
    "from sklearn.manifold import TSNE\n",
    "import matplotlib.pyplot as plt\n",
    "%matplotlib inline\n",
    "import seaborn as sns\n",
    "from sklearn.decomposition import PCA\n",
    "import numpy as np\n",
    "import matplotlib.pyplot as plt\n",
    "from sklearn.decomposition import PCA\n",
    "\n",
    "# IMPORTS END"
   ]
  },
  {
   "cell_type": "code",
   "execution_count": 2,
   "metadata": {},
   "outputs": [],
   "source": [
    "# GLOBALS BEGIN\n",
    "maxlen=100\n",
    "max_sentences=15\n",
    "max_words=20000\n",
    "embedding_dim=100\n",
    "reviews=[]\n",
    "labels=[]\n",
    "texts=[]\n",
    "embeddings_index={}\n",
    "# GLOBALS END"
   ]
  },
  {
   "cell_type": "markdown",
   "metadata": {},
   "source": [
    "Class Defining Custom Attention Layer"
   ]
  },
  {
   "cell_type": "code",
   "execution_count": 3,
   "metadata": {},
   "outputs": [],
   "source": [
    "class Attention(Layer):\n",
    "    def __init__(self, attention_dim):\n",
    "        self.init = initializers.get('normal')\n",
    "        self.supports_masking = True\n",
    "        self.attention_dim = attention_dim\n",
    "        super(Attention, self).__init__()\n",
    "\n",
    "    def build(self, input_shape):\n",
    "        assert len(input_shape) == 3\n",
    "        self.W = K.variable(self.init((input_shape[-1], self.attention_dim)))\n",
    "        self.b = K.variable(self.init((self.attention_dim,)))\n",
    "        self.u = K.variable(self.init((self.attention_dim, 1)))\n",
    "        self.trainable_weights = [self.W, self.b, self.u]\n",
    "        super(Attention, self).build(input_shape)\n",
    "\n",
    "    def compute_mask(self, inputs, mask=None):\n",
    "        return None\n",
    "\n",
    "    def call(self, x, mask=None):\n",
    "        # size of x :[batch_size, sel_len, attention_dim]\n",
    "        # size of u :[batch_size, attention_dim]\n",
    "        # uit = tanh(xW+b)\n",
    "        uit = K.tanh(K.bias_add(K.dot(x, self.W), self.b))\n",
    "\n",
    "        ait = K.exp(K.squeeze(K.dot(uit, self.u), -1))\n",
    "\n",
    "        if mask is not None:\n",
    "            # Cast the mask to floatX to avoid float64 upcasting\n",
    "            ait *= K.cast(mask, K.floatx())\n",
    "        ait /= K.cast(K.sum(ait, axis=1, keepdims=True) + K.epsilon(), K.floatx())\n",
    "        weighted_input = x * K.expand_dims(ait)\n",
    "        output = K.sum(weighted_input, axis=1)\n",
    "\n",
    "        return output\n",
    "\n",
    "    def compute_output_shape(self, input_shape):\n",
    "        return input_shape[0], input_shape[-1]"
   ]
  },
  {
   "cell_type": "markdown",
   "metadata": {},
   "source": [
    "Data Reading and Analysis"
   ]
  },
  {
   "cell_type": "code",
   "execution_count": 4,
   "metadata": {},
   "outputs": [],
   "source": [
    "input_data1 = pd.read_csv('/mnt/SWTM_WORK/FAR_ML_CSS/FA_Predictions/ML_Library/Logs/CTUA/drugscomTrain_raw.tsv', sep='\\t')\n",
    "input_data2 = pd.read_csv('/mnt/SWTM_WORK/FAR_ML_CSS/FA_Predictions/ML_Library/Logs/CTUA/drugscomTest_raw.tsv', sep='\\t')\n",
    "input_data = pd.concat([input_data1, input_data2], ignore_index=True)"
   ]
  },
  {
   "cell_type": "code",
   "execution_count": 5,
   "metadata": {},
   "outputs": [
    {
     "data": {
      "text/html": [
       "<div>\n",
       "<style scoped>\n",
       "    .dataframe tbody tr th:only-of-type {\n",
       "        vertical-align: middle;\n",
       "    }\n",
       "\n",
       "    .dataframe tbody tr th {\n",
       "        vertical-align: top;\n",
       "    }\n",
       "\n",
       "    .dataframe thead th {\n",
       "        text-align: right;\n",
       "    }\n",
       "</style>\n",
       "<table border=\"1\" class=\"dataframe\">\n",
       "  <thead>\n",
       "    <tr style=\"text-align: right;\">\n",
       "      <th></th>\n",
       "      <th>Unnamed: 0</th>\n",
       "      <th>drugName</th>\n",
       "      <th>condition</th>\n",
       "      <th>review</th>\n",
       "      <th>rating</th>\n",
       "      <th>date</th>\n",
       "      <th>usefulCount</th>\n",
       "    </tr>\n",
       "  </thead>\n",
       "  <tbody>\n",
       "    <tr>\n",
       "      <th>0</th>\n",
       "      <td>206461</td>\n",
       "      <td>Valsartan</td>\n",
       "      <td>Left Ventricular Dysfunction</td>\n",
       "      <td>\"It has no side effect, I take it in combinati...</td>\n",
       "      <td>9.0</td>\n",
       "      <td>May 20, 2012</td>\n",
       "      <td>27</td>\n",
       "    </tr>\n",
       "    <tr>\n",
       "      <th>1</th>\n",
       "      <td>95260</td>\n",
       "      <td>Guanfacine</td>\n",
       "      <td>ADHD</td>\n",
       "      <td>\"My son is halfway through his fourth week of ...</td>\n",
       "      <td>8.0</td>\n",
       "      <td>April 27, 2010</td>\n",
       "      <td>192</td>\n",
       "    </tr>\n",
       "    <tr>\n",
       "      <th>2</th>\n",
       "      <td>92703</td>\n",
       "      <td>Lybrel</td>\n",
       "      <td>Birth Control</td>\n",
       "      <td>\"I used to take another oral contraceptive, wh...</td>\n",
       "      <td>5.0</td>\n",
       "      <td>December 14, 2009</td>\n",
       "      <td>17</td>\n",
       "    </tr>\n",
       "    <tr>\n",
       "      <th>3</th>\n",
       "      <td>138000</td>\n",
       "      <td>Ortho Evra</td>\n",
       "      <td>Birth Control</td>\n",
       "      <td>\"This is my first time using any form of birth...</td>\n",
       "      <td>8.0</td>\n",
       "      <td>November 3, 2015</td>\n",
       "      <td>10</td>\n",
       "    </tr>\n",
       "    <tr>\n",
       "      <th>4</th>\n",
       "      <td>35696</td>\n",
       "      <td>Buprenorphine / naloxone</td>\n",
       "      <td>Opiate Dependence</td>\n",
       "      <td>\"Suboxone has completely turned my life around...</td>\n",
       "      <td>9.0</td>\n",
       "      <td>November 27, 2016</td>\n",
       "      <td>37</td>\n",
       "    </tr>\n",
       "    <tr>\n",
       "      <th>...</th>\n",
       "      <td>...</td>\n",
       "      <td>...</td>\n",
       "      <td>...</td>\n",
       "      <td>...</td>\n",
       "      <td>...</td>\n",
       "      <td>...</td>\n",
       "      <td>...</td>\n",
       "    </tr>\n",
       "    <tr>\n",
       "      <th>215058</th>\n",
       "      <td>159999</td>\n",
       "      <td>Tamoxifen</td>\n",
       "      <td>Breast Cancer, Prevention</td>\n",
       "      <td>\"I have taken Tamoxifen for 5 years. Side effe...</td>\n",
       "      <td>10.0</td>\n",
       "      <td>September 13, 2014</td>\n",
       "      <td>43</td>\n",
       "    </tr>\n",
       "    <tr>\n",
       "      <th>215059</th>\n",
       "      <td>140714</td>\n",
       "      <td>Escitalopram</td>\n",
       "      <td>Anxiety</td>\n",
       "      <td>\"I&amp;#039;ve been taking Lexapro (escitaploprgra...</td>\n",
       "      <td>9.0</td>\n",
       "      <td>October 8, 2016</td>\n",
       "      <td>11</td>\n",
       "    </tr>\n",
       "    <tr>\n",
       "      <th>215060</th>\n",
       "      <td>130945</td>\n",
       "      <td>Levonorgestrel</td>\n",
       "      <td>Birth Control</td>\n",
       "      <td>\"I&amp;#039;m married, 34 years old and I have no ...</td>\n",
       "      <td>8.0</td>\n",
       "      <td>November 15, 2010</td>\n",
       "      <td>7</td>\n",
       "    </tr>\n",
       "    <tr>\n",
       "      <th>215061</th>\n",
       "      <td>47656</td>\n",
       "      <td>Tapentadol</td>\n",
       "      <td>Pain</td>\n",
       "      <td>\"I was prescribed Nucynta for severe neck/shou...</td>\n",
       "      <td>1.0</td>\n",
       "      <td>November 28, 2011</td>\n",
       "      <td>20</td>\n",
       "    </tr>\n",
       "    <tr>\n",
       "      <th>215062</th>\n",
       "      <td>113712</td>\n",
       "      <td>Arthrotec</td>\n",
       "      <td>Sciatica</td>\n",
       "      <td>\"It works!!!\"</td>\n",
       "      <td>9.0</td>\n",
       "      <td>September 13, 2009</td>\n",
       "      <td>46</td>\n",
       "    </tr>\n",
       "  </tbody>\n",
       "</table>\n",
       "<p>215063 rows × 7 columns</p>\n",
       "</div>"
      ],
      "text/plain": [
       "        Unnamed: 0                  drugName                     condition  \\\n",
       "0           206461                 Valsartan  Left Ventricular Dysfunction   \n",
       "1            95260                Guanfacine                          ADHD   \n",
       "2            92703                    Lybrel                 Birth Control   \n",
       "3           138000                Ortho Evra                 Birth Control   \n",
       "4            35696  Buprenorphine / naloxone             Opiate Dependence   \n",
       "...            ...                       ...                           ...   \n",
       "215058      159999                 Tamoxifen     Breast Cancer, Prevention   \n",
       "215059      140714              Escitalopram                       Anxiety   \n",
       "215060      130945            Levonorgestrel                 Birth Control   \n",
       "215061       47656                Tapentadol                          Pain   \n",
       "215062      113712                 Arthrotec                      Sciatica   \n",
       "\n",
       "                                                   review  rating  \\\n",
       "0       \"It has no side effect, I take it in combinati...     9.0   \n",
       "1       \"My son is halfway through his fourth week of ...     8.0   \n",
       "2       \"I used to take another oral contraceptive, wh...     5.0   \n",
       "3       \"This is my first time using any form of birth...     8.0   \n",
       "4       \"Suboxone has completely turned my life around...     9.0   \n",
       "...                                                   ...     ...   \n",
       "215058  \"I have taken Tamoxifen for 5 years. Side effe...    10.0   \n",
       "215059  \"I&#039;ve been taking Lexapro (escitaploprgra...     9.0   \n",
       "215060  \"I&#039;m married, 34 years old and I have no ...     8.0   \n",
       "215061  \"I was prescribed Nucynta for severe neck/shou...     1.0   \n",
       "215062                                      \"It works!!!\"     9.0   \n",
       "\n",
       "                      date  usefulCount  \n",
       "0             May 20, 2012           27  \n",
       "1           April 27, 2010          192  \n",
       "2        December 14, 2009           17  \n",
       "3         November 3, 2015           10  \n",
       "4        November 27, 2016           37  \n",
       "...                    ...          ...  \n",
       "215058  September 13, 2014           43  \n",
       "215059     October 8, 2016           11  \n",
       "215060   November 15, 2010            7  \n",
       "215061   November 28, 2011           20  \n",
       "215062  September 13, 2009           46  \n",
       "\n",
       "[215063 rows x 7 columns]"
      ]
     },
     "execution_count": 5,
     "metadata": {},
     "output_type": "execute_result"
    }
   ],
   "source": [
    "input_data"
   ]
  },
  {
   "cell_type": "code",
   "execution_count": 6,
   "metadata": {},
   "outputs": [
    {
     "data": {
      "text/plain": [
       "(215063, 7)"
      ]
     },
     "execution_count": 6,
     "metadata": {},
     "output_type": "execute_result"
    }
   ],
   "source": [
    "input_data.shape"
   ]
  },
  {
   "cell_type": "markdown",
   "metadata": {},
   "source": [
    "Getting count of conditions with reviews greater than equal to 10"
   ]
  },
  {
   "cell_type": "code",
   "execution_count": 7,
   "metadata": {},
   "outputs": [],
   "source": [
    "x = list(input_data.groupby('condition').count()['review']>9)"
   ]
  },
  {
   "cell_type": "code",
   "execution_count": 8,
   "metadata": {},
   "outputs": [
    {
     "name": "stdout",
     "output_type": "stream",
     "text": [
      "480\n"
     ]
    }
   ],
   "source": [
    "count = 0\n",
    "for z in x:\n",
    "    if z==True:\n",
    "        count+=1\n",
    "print(count)"
   ]
  },
  {
   "cell_type": "markdown",
   "metadata": {},
   "source": [
    "Getting count of drugName with reviews greater than equal to 10"
   ]
  },
  {
   "cell_type": "code",
   "execution_count": 9,
   "metadata": {},
   "outputs": [],
   "source": [
    "x = list(input_data.groupby('drugName').count()['review']>9)"
   ]
  },
  {
   "cell_type": "code",
   "execution_count": 10,
   "metadata": {},
   "outputs": [
    {
     "name": "stdout",
     "output_type": "stream",
     "text": [
      "1548\n"
     ]
    }
   ],
   "source": [
    "count = 0\n",
    "for z in x:\n",
    "    if z==True:\n",
    "        count+=1\n",
    "print(count)"
   ]
  },
  {
   "cell_type": "markdown",
   "metadata": {},
   "source": [
    "Keep condition which have greater than equal to 10 instances\n",
    "and have max 20 sample of each"
   ]
  },
  {
   "cell_type": "code",
   "execution_count": 11,
   "metadata": {},
   "outputs": [],
   "source": [
    "def limit_count_per_column(df, column, low=10, high=20):\n",
    "    in_limits_df =  df.groupby(column).filter(lambda x: high>=len(x)>=low)\n",
    "    gt_limit_columns = list(df.groupby(column).filter(lambda x: len(x)>high)[column].unique())\n",
    "    for column_val in gt_limit_columns:\n",
    "        in_limits_df = pd.concat([in_limits_df,resample(df[df[column]==column_val]\n",
    "                                                      ,replace=False,n_samples=20,random_state=100)])\n",
    "    in_limits_df = in_limits_df.reset_index(drop=True)\n",
    "    return in_limits_df"
   ]
  },
  {
   "cell_type": "code",
   "execution_count": 12,
   "metadata": {},
   "outputs": [],
   "source": [
    "input_data = limit_count_per_column(input_data, 'condition')"
   ]
  },
  {
   "cell_type": "code",
   "execution_count": 13,
   "metadata": {},
   "outputs": [
    {
     "data": {
      "text/plain": [
       "(8920, 7)"
      ]
     },
     "execution_count": 13,
     "metadata": {},
     "output_type": "execute_result"
    }
   ],
   "source": [
    "input_data.shape"
   ]
  },
  {
   "cell_type": "code",
   "execution_count": 14,
   "metadata": {},
   "outputs": [
    {
     "data": {
      "text/html": [
       "<div>\n",
       "<style scoped>\n",
       "    .dataframe tbody tr th:only-of-type {\n",
       "        vertical-align: middle;\n",
       "    }\n",
       "\n",
       "    .dataframe tbody tr th {\n",
       "        vertical-align: top;\n",
       "    }\n",
       "\n",
       "    .dataframe thead th {\n",
       "        text-align: right;\n",
       "    }\n",
       "</style>\n",
       "<table border=\"1\" class=\"dataframe\">\n",
       "  <thead>\n",
       "    <tr style=\"text-align: right;\">\n",
       "      <th></th>\n",
       "      <th>Unnamed: 0</th>\n",
       "      <th>drugName</th>\n",
       "      <th>condition</th>\n",
       "      <th>review</th>\n",
       "      <th>rating</th>\n",
       "      <th>date</th>\n",
       "      <th>usefulCount</th>\n",
       "    </tr>\n",
       "  </thead>\n",
       "  <tbody>\n",
       "    <tr>\n",
       "      <th>0</th>\n",
       "      <td>34093</td>\n",
       "      <td>Zoledronic acid</td>\n",
       "      <td>Osteolytic Bone Metastases of Solid Tumors</td>\n",
       "      <td>\"I dreaded the side-effects and had NONE.  I h...</td>\n",
       "      <td>10.0</td>\n",
       "      <td>January 25, 2012</td>\n",
       "      <td>31</td>\n",
       "    </tr>\n",
       "    <tr>\n",
       "      <th>1</th>\n",
       "      <td>97654</td>\n",
       "      <td>Methimazole</td>\n",
       "      <td>Hyperthyroidism</td>\n",
       "      <td>\"My 6yr old daughter and I have been dealing w...</td>\n",
       "      <td>4.0</td>\n",
       "      <td>July 11, 2016</td>\n",
       "      <td>3</td>\n",
       "    </tr>\n",
       "    <tr>\n",
       "      <th>2</th>\n",
       "      <td>184954</td>\n",
       "      <td>Trolamine salicylate</td>\n",
       "      <td>Bursitis</td>\n",
       "      <td>\"Did help relieve some of the pain temporarily...</td>\n",
       "      <td>7.0</td>\n",
       "      <td>April 19, 2009</td>\n",
       "      <td>25</td>\n",
       "    </tr>\n",
       "    <tr>\n",
       "      <th>3</th>\n",
       "      <td>196987</td>\n",
       "      <td>Paroxetine</td>\n",
       "      <td>Trichotillomania</td>\n",
       "      <td>\"I have OCD, anxiety, and ADHD. I also pick my...</td>\n",
       "      <td>10.0</td>\n",
       "      <td>April 26, 2016</td>\n",
       "      <td>15</td>\n",
       "    </tr>\n",
       "    <tr>\n",
       "      <th>4</th>\n",
       "      <td>35476</td>\n",
       "      <td>Phenol</td>\n",
       "      <td>Sore Throat</td>\n",
       "      <td>\"I will personally attest to this,,,\\r\\n33 yea...</td>\n",
       "      <td>6.0</td>\n",
       "      <td>November 5, 2016</td>\n",
       "      <td>7</td>\n",
       "    </tr>\n",
       "    <tr>\n",
       "      <th>...</th>\n",
       "      <td>...</td>\n",
       "      <td>...</td>\n",
       "      <td>...</td>\n",
       "      <td>...</td>\n",
       "      <td>...</td>\n",
       "      <td>...</td>\n",
       "      <td>...</td>\n",
       "    </tr>\n",
       "    <tr>\n",
       "      <th>8915</th>\n",
       "      <td>22696</td>\n",
       "      <td>Midodrine</td>\n",
       "      <td>Postural Orthostatic Tachycardia Syndrome</td>\n",
       "      <td>\"Didn&amp;#039;t seem to lower my heart rate very ...</td>\n",
       "      <td>3.0</td>\n",
       "      <td>October 1, 2010</td>\n",
       "      <td>34</td>\n",
       "    </tr>\n",
       "    <tr>\n",
       "      <th>8916</th>\n",
       "      <td>46963</td>\n",
       "      <td>Fludrocortisone</td>\n",
       "      <td>Postural Orthostatic Tachycardia Syndrome</td>\n",
       "      <td>\"I have taken this medicine along with Toprol-...</td>\n",
       "      <td>10.0</td>\n",
       "      <td>August 10, 2010</td>\n",
       "      <td>14</td>\n",
       "    </tr>\n",
       "    <tr>\n",
       "      <th>8917</th>\n",
       "      <td>41794</td>\n",
       "      <td>Clonidine</td>\n",
       "      <td>Postural Orthostatic Tachycardia Syndrome</td>\n",
       "      <td>\"Very useful for helping to level out the surg...</td>\n",
       "      <td>9.0</td>\n",
       "      <td>May 18, 2013</td>\n",
       "      <td>23</td>\n",
       "    </tr>\n",
       "    <tr>\n",
       "      <th>8918</th>\n",
       "      <td>163400</td>\n",
       "      <td>Methylphenidate</td>\n",
       "      <td>Postural Orthostatic Tachycardia Syndrome</td>\n",
       "      <td>\"Two months ago, I was unable to work or to dr...</td>\n",
       "      <td>8.0</td>\n",
       "      <td>January 16, 2017</td>\n",
       "      <td>5</td>\n",
       "    </tr>\n",
       "    <tr>\n",
       "      <th>8919</th>\n",
       "      <td>22687</td>\n",
       "      <td>Midodrine</td>\n",
       "      <td>Postural Orthostatic Tachycardia Syndrome</td>\n",
       "      <td>\"I have been diagnosed with Dysautonomia &amp;amp;...</td>\n",
       "      <td>8.0</td>\n",
       "      <td>October 3, 2015</td>\n",
       "      <td>12</td>\n",
       "    </tr>\n",
       "  </tbody>\n",
       "</table>\n",
       "<p>8920 rows × 7 columns</p>\n",
       "</div>"
      ],
      "text/plain": [
       "      Unnamed: 0              drugName  \\\n",
       "0          34093       Zoledronic acid   \n",
       "1          97654           Methimazole   \n",
       "2         184954  Trolamine salicylate   \n",
       "3         196987            Paroxetine   \n",
       "4          35476                Phenol   \n",
       "...          ...                   ...   \n",
       "8915       22696             Midodrine   \n",
       "8916       46963       Fludrocortisone   \n",
       "8917       41794             Clonidine   \n",
       "8918      163400       Methylphenidate   \n",
       "8919       22687             Midodrine   \n",
       "\n",
       "                                       condition  \\\n",
       "0     Osteolytic Bone Metastases of Solid Tumors   \n",
       "1                                Hyperthyroidism   \n",
       "2                                       Bursitis   \n",
       "3                               Trichotillomania   \n",
       "4                                    Sore Throat   \n",
       "...                                          ...   \n",
       "8915   Postural Orthostatic Tachycardia Syndrome   \n",
       "8916   Postural Orthostatic Tachycardia Syndrome   \n",
       "8917   Postural Orthostatic Tachycardia Syndrome   \n",
       "8918   Postural Orthostatic Tachycardia Syndrome   \n",
       "8919   Postural Orthostatic Tachycardia Syndrome   \n",
       "\n",
       "                                                 review  rating  \\\n",
       "0     \"I dreaded the side-effects and had NONE.  I h...    10.0   \n",
       "1     \"My 6yr old daughter and I have been dealing w...     4.0   \n",
       "2     \"Did help relieve some of the pain temporarily...     7.0   \n",
       "3     \"I have OCD, anxiety, and ADHD. I also pick my...    10.0   \n",
       "4     \"I will personally attest to this,,,\\r\\n33 yea...     6.0   \n",
       "...                                                 ...     ...   \n",
       "8915  \"Didn&#039;t seem to lower my heart rate very ...     3.0   \n",
       "8916  \"I have taken this medicine along with Toprol-...    10.0   \n",
       "8917  \"Very useful for helping to level out the surg...     9.0   \n",
       "8918  \"Two months ago, I was unable to work or to dr...     8.0   \n",
       "8919  \"I have been diagnosed with Dysautonomia &amp;...     8.0   \n",
       "\n",
       "                  date  usefulCount  \n",
       "0     January 25, 2012           31  \n",
       "1        July 11, 2016            3  \n",
       "2       April 19, 2009           25  \n",
       "3       April 26, 2016           15  \n",
       "4     November 5, 2016            7  \n",
       "...                ...          ...  \n",
       "8915   October 1, 2010           34  \n",
       "8916   August 10, 2010           14  \n",
       "8917      May 18, 2013           23  \n",
       "8918  January 16, 2017            5  \n",
       "8919   October 3, 2015           12  \n",
       "\n",
       "[8920 rows x 7 columns]"
      ]
     },
     "execution_count": 14,
     "metadata": {},
     "output_type": "execute_result"
    }
   ],
   "source": [
    "input_data"
   ]
  },
  {
   "cell_type": "markdown",
   "metadata": {},
   "source": [
    "Cluster Train split using Stratification"
   ]
  },
  {
   "cell_type": "code",
   "execution_count": 15,
   "metadata": {},
   "outputs": [],
   "source": [
    "y = list(input_data['condition'])"
   ]
  },
  {
   "cell_type": "code",
   "execution_count": 16,
   "metadata": {},
   "outputs": [],
   "source": [
    "def get_train_and_cluster_data(df, y, stratify_column='condition', cluster_ratio=3/5):    \n",
    "    x_train, x_cluster, y_train, y_cluster = train_test_split(df, y, stratify = df[stratify_column], \n",
    "                                                              test_size = cluster_ratio, random_state=42)\n",
    "    x_train = x_train.reset_index(drop=True)\n",
    "    x_cluster = x_cluster.reset_index(drop=True)\n",
    "    return x_train, x_cluster, y_train, y_cluster"
   ]
  },
  {
   "cell_type": "code",
   "execution_count": 17,
   "metadata": {},
   "outputs": [],
   "source": [
    "x_train, x_cluster, y_train, y_cluster = get_train_and_cluster_data(input_data, y)"
   ]
  },
  {
   "cell_type": "code",
   "execution_count": 18,
   "metadata": {},
   "outputs": [
    {
     "data": {
      "text/plain": [
       "((3568, 7), (5352, 7))"
      ]
     },
     "execution_count": 18,
     "metadata": {},
     "output_type": "execute_result"
    }
   ],
   "source": [
    "x_train.shape, x_cluster.shape"
   ]
  },
  {
   "cell_type": "markdown",
   "metadata": {},
   "source": [
    "Cleaning and pre processing, using review as input and condition as output"
   ]
  },
  {
   "cell_type": "code",
   "execution_count": 19,
   "metadata": {},
   "outputs": [
    {
     "data": {
      "text/plain": [
       "480"
      ]
     },
     "execution_count": 19,
     "metadata": {},
     "output_type": "execute_result"
    }
   ],
   "source": [
    "len(set(y_train))"
   ]
  },
  {
   "cell_type": "code",
   "execution_count": 20,
   "metadata": {},
   "outputs": [
    {
     "data": {
      "text/plain": [
       "480"
      ]
     },
     "execution_count": 20,
     "metadata": {},
     "output_type": "execute_result"
    }
   ],
   "source": [
    "len(set(y_cluster))"
   ]
  },
  {
   "cell_type": "code",
   "execution_count": 21,
   "metadata": {},
   "outputs": [],
   "source": [
    "def clean_str(string):\n",
    "    string = re.sub(r\"\\\\\",\"\",string)\n",
    "    string = re.sub(r\"\\'\",\"\",string)\n",
    "    string = re.sub(r\"\\\"\",\"\",string)\n",
    "    return string.strip().lower()"
   ]
  },
  {
   "cell_type": "code",
   "execution_count": 22,
   "metadata": {},
   "outputs": [],
   "source": [
    "for idx in range(x_train.review.shape[0]):\n",
    "    text = x_train.review[idx][1:-1]\n",
    "    text = clean_str(text)\n",
    "    texts.append(text)\n",
    "    sentences = tokenize.sent_tokenize(text)\n",
    "    reviews.append(sentences)\n",
    "    labels.append(x_train.condition[idx])"
   ]
  },
  {
   "cell_type": "code",
   "execution_count": 23,
   "metadata": {},
   "outputs": [],
   "source": [
    "tokenizer = Tokenizer(num_words = max_words)\n",
    "tokenizer.fit_on_texts(texts)"
   ]
  },
  {
   "cell_type": "code",
   "execution_count": 24,
   "metadata": {},
   "outputs": [],
   "source": [
    "train_data = np.zeros((len(texts), max_sentences, maxlen), dtype='int32')"
   ]
  },
  {
   "cell_type": "code",
   "execution_count": 25,
   "metadata": {},
   "outputs": [],
   "source": [
    "for i, sentences in enumerate(reviews):\n",
    "    for j, sent in enumerate(sentences):\n",
    "        if j < max_sentences:\n",
    "            wordTokens = text_to_word_sequence(sent)\n",
    "            k=0\n",
    "            for _, word in enumerate(wordTokens):\n",
    "                if k < maxlen and tokenizer.word_index[word] < max_words:\n",
    "                    train_data[i, j, k] = tokenizer.word_index[word]\n",
    "                    k=k+1"
   ]
  },
  {
   "cell_type": "code",
   "execution_count": 26,
   "metadata": {},
   "outputs": [
    {
     "name": "stdout",
     "output_type": "stream",
     "text": [
      "Total 11188 unique tokens.\n"
     ]
    }
   ],
   "source": [
    "word_index = tokenizer.word_index\n",
    "print('Total %s unique tokens.' % len(word_index))"
   ]
  },
  {
   "cell_type": "code",
   "execution_count": 27,
   "metadata": {},
   "outputs": [],
   "source": [
    "le = preprocessing.LabelEncoder()\n",
    "le.fit(labels)\n",
    "labels = le.transform(labels)"
   ]
  },
  {
   "cell_type": "code",
   "execution_count": 28,
   "metadata": {},
   "outputs": [
    {
     "data": {
      "text/plain": [
       "array([362,  31, 352, ..., 464, 253, 138])"
      ]
     },
     "execution_count": 28,
     "metadata": {},
     "output_type": "execute_result"
    }
   ],
   "source": [
    "labels"
   ]
  },
  {
   "cell_type": "code",
   "execution_count": 29,
   "metadata": {},
   "outputs": [
    {
     "name": "stdout",
     "output_type": "stream",
     "text": [
      "unique conditions: 480\n"
     ]
    }
   ],
   "source": [
    "print('unique conditions:', len(set(labels)))"
   ]
  },
  {
   "cell_type": "code",
   "execution_count": 30,
   "metadata": {},
   "outputs": [
    {
     "name": "stdout",
     "output_type": "stream",
     "text": [
      "Shape of reviews (data) tensor: (3568, 15, 100)\n",
      "Shape of condition (label) tensor: (3568,)\n"
     ]
    }
   ],
   "source": [
    "print('Shape of reviews (data) tensor:', train_data.shape)\n",
    "print('Shape of condition (label) tensor:', labels.shape)"
   ]
  },
  {
   "cell_type": "code",
   "execution_count": 31,
   "metadata": {},
   "outputs": [],
   "source": [
    "indices = np.arange(train_data.shape[0])\n",
    "np.random.shuffle(indices)\n",
    "train_data = train_data[indices]\n",
    "labels = labels[indices]"
   ]
  },
  {
   "cell_type": "markdown",
   "metadata": {},
   "source": [
    "Using pre available glove embeddings"
   ]
  },
  {
   "cell_type": "code",
   "execution_count": 32,
   "metadata": {},
   "outputs": [],
   "source": [
    "f = open(os.path.join('/mnt//SWTM_WORK/FAR_ML_CSS/FA_Predictions/ML_Library/Logs/CTUA/', 'glove.6B.100d.txt'))\n",
    "for line in f:\n",
    "    values = line.split()\n",
    "    word = values[0]\n",
    "    coefs = np.asarray(values[1:], dtype='float32')\n",
    "    embeddings_index[word]=coefs\n",
    "f.close()"
   ]
  },
  {
   "cell_type": "code",
   "execution_count": 33,
   "metadata": {},
   "outputs": [
    {
     "name": "stdout",
     "output_type": "stream",
     "text": [
      "Total 400000 word vectors. in pre available glove embeddings\n"
     ]
    }
   ],
   "source": [
    "print('Total %s word vectors. in pre available glove embeddings' % len(embeddings_index))"
   ]
  },
  {
   "cell_type": "code",
   "execution_count": 34,
   "metadata": {},
   "outputs": [],
   "source": [
    "embedding_matrix = np.random.random((len(word_index)+1, embedding_dim))\n",
    "for word, i in word_index.items():\n",
    "    embedding_vector = embeddings_index.get(word)\n",
    "    if embedding_vector is not None:\n",
    "        # words not found in embedding index will be all-zeroes\n",
    "        embedding_matrix[i] = embedding_vector"
   ]
  },
  {
   "cell_type": "code",
   "execution_count": 35,
   "metadata": {},
   "outputs": [
    {
     "name": "stdout",
     "output_type": "stream",
     "text": [
      "WARNING:tensorflow:From /home/sdin-swt-far-54/miniconda3/envs/taufiq/lib/python3.7/site-packages/keras/backend/tensorflow_backend.py:74: The name tf.get_default_graph is deprecated. Please use tf.compat.v1.get_default_graph instead.\n",
      "\n"
     ]
    }
   ],
   "source": [
    "embedding_layer = Embedding(len(word_index)+1, embedding_dim, weights=[embedding_matrix],\n",
    "                           input_length=maxlen, trainable=True,mask_zero=True)"
   ]
  },
  {
   "cell_type": "code",
   "execution_count": 36,
   "metadata": {},
   "outputs": [],
   "source": [
    "labels = to_categorical(labels)"
   ]
  },
  {
   "cell_type": "markdown",
   "metadata": {},
   "source": [
    "Attention training and final clustering"
   ]
  },
  {
   "cell_type": "code",
   "execution_count": 37,
   "metadata": {},
   "outputs": [],
   "source": [
    "x_train = train_data\n",
    "y_train = labels"
   ]
  },
  {
   "cell_type": "code",
   "execution_count": 38,
   "metadata": {},
   "outputs": [
    {
     "name": "stdout",
     "output_type": "stream",
     "text": [
      "WARNING:tensorflow:From /home/sdin-swt-far-54/miniconda3/envs/taufiq/lib/python3.7/site-packages/keras/backend/tensorflow_backend.py:517: The name tf.placeholder is deprecated. Please use tf.compat.v1.placeholder instead.\n",
      "\n",
      "WARNING:tensorflow:From /home/sdin-swt-far-54/miniconda3/envs/taufiq/lib/python3.7/site-packages/keras/backend/tensorflow_backend.py:4138: The name tf.random_uniform is deprecated. Please use tf.random.uniform instead.\n",
      "\n",
      "WARNING:tensorflow:From /home/sdin-swt-far-54/miniconda3/envs/taufiq/lib/python3.7/site-packages/keras/backend/tensorflow_backend.py:174: The name tf.get_default_session is deprecated. Please use tf.compat.v1.get_default_session instead.\n",
      "\n",
      "WARNING:tensorflow:From /home/sdin-swt-far-54/miniconda3/envs/taufiq/lib/python3.7/site-packages/keras/backend/tensorflow_backend.py:181: The name tf.ConfigProto is deprecated. Please use tf.compat.v1.ConfigProto instead.\n",
      "\n",
      "WARNING:tensorflow:From /home/sdin-swt-far-54/miniconda3/envs/taufiq/lib/python3.7/site-packages/keras/backend/tensorflow_backend.py:2974: add_dispatch_support.<locals>.wrapper (from tensorflow.python.ops.array_ops) is deprecated and will be removed in a future version.\n",
      "Instructions for updating:\n",
      "Use tf.where in 2.0, which has the same broadcast rule as np.where\n"
     ]
    }
   ],
   "source": [
    "sentence_input = Input(shape=(maxlen,), dtype='int32')\n",
    "embedded_sequences = embedding_layer(sentence_input)\n",
    "lstm_word = Bidirectional(GRU(100, return_sequences=True))(embedded_sequences)\n",
    "attn_word = Attention(100)(lstm_word)\n",
    "sentenceEncoder = Model(sentence_input, attn_word)"
   ]
  },
  {
   "cell_type": "code",
   "execution_count": 39,
   "metadata": {},
   "outputs": [],
   "source": [
    "review_input = Input(shape=(max_sentences, maxlen), dtype='int32')\n",
    "review_encoder = TimeDistributed(sentenceEncoder)(review_input)\n",
    "lstm_sentence = Bidirectional(GRU(100, return_sequences=True))(review_encoder)\n",
    "attn_sentence = Attention(100)(lstm_sentence)\n",
    "preds = Dense(y_train.shape[1], activation='softmax')(attn_sentence)\n",
    "model = Model(review_input, preds)"
   ]
  },
  {
   "cell_type": "code",
   "execution_count": 40,
   "metadata": {},
   "outputs": [
    {
     "name": "stdout",
     "output_type": "stream",
     "text": [
      "WARNING:tensorflow:From /home/sdin-swt-far-54/miniconda3/envs/taufiq/lib/python3.7/site-packages/keras/optimizers.py:790: The name tf.train.Optimizer is deprecated. Please use tf.compat.v1.train.Optimizer instead.\n",
      "\n"
     ]
    }
   ],
   "source": [
    "model.compile(loss='categorical_crossentropy', optimizer='adam', metrics=['acc'])"
   ]
  },
  {
   "cell_type": "code",
   "execution_count": 41,
   "metadata": {},
   "outputs": [
    {
     "name": "stdout",
     "output_type": "stream",
     "text": [
      "model fitting - HAN\n",
      "Epoch 1/30\n",
      "3568/3568 [==============================] - 7s 2ms/step - loss: 6.1792 - acc: 0.0011\n",
      "Epoch 2/30\n",
      "3568/3568 [==============================] - 5s 1ms/step - loss: 6.1561 - acc: 0.0025\n",
      "Epoch 3/30\n",
      "3568/3568 [==============================] - 5s 1ms/step - loss: 6.0367 - acc: 0.0112\n",
      "Epoch 4/30\n",
      "3568/3568 [==============================] - 5s 1ms/step - loss: 5.5661 - acc: 0.0418\n",
      "Epoch 5/30\n",
      "3568/3568 [==============================] - 5s 1ms/step - loss: 4.8547 - acc: 0.1242\n",
      "Epoch 6/30\n",
      "3568/3568 [==============================] - 5s 1ms/step - loss: 4.1792 - acc: 0.2382\n",
      "Epoch 7/30\n",
      "3568/3568 [==============================] - 5s 1ms/step - loss: 3.5854 - acc: 0.3330\n",
      "Epoch 8/30\n",
      "3568/3568 [==============================] - 5s 1ms/step - loss: 3.0669 - acc: 0.4524\n",
      "Epoch 9/30\n",
      "3568/3568 [==============================] - 5s 1ms/step - loss: 2.6254 - acc: 0.5437\n",
      "Epoch 10/30\n",
      "3568/3568 [==============================] - 5s 1ms/step - loss: 2.2351 - acc: 0.6244\n",
      "Epoch 11/30\n",
      "3568/3568 [==============================] - 5s 1ms/step - loss: 1.8900 - acc: 0.6945\n",
      "Epoch 12/30\n",
      "3568/3568 [==============================] - 5s 1ms/step - loss: 1.5966 - acc: 0.7595\n",
      "Epoch 13/30\n",
      "3568/3568 [==============================] - 5s 1ms/step - loss: 1.3267 - acc: 0.8075\n",
      "Epoch 14/30\n",
      "3568/3568 [==============================] - 5s 1ms/step - loss: 1.1085 - acc: 0.8559\n",
      "Epoch 15/30\n",
      "3568/3568 [==============================] - 5s 1ms/step - loss: 0.9315 - acc: 0.8859\n",
      "Epoch 16/30\n",
      "3568/3568 [==============================] - 5s 1ms/step - loss: 0.7742 - acc: 0.9112\n",
      "Epoch 17/30\n",
      "3568/3568 [==============================] - 5s 1ms/step - loss: 0.6603 - acc: 0.9308\n",
      "Epoch 18/30\n",
      "3568/3568 [==============================] - 5s 1ms/step - loss: 0.5857 - acc: 0.9400\n",
      "Epoch 19/30\n",
      "3568/3568 [==============================] - 5s 1ms/step - loss: 0.4955 - acc: 0.9540\n",
      "Epoch 20/30\n",
      "3568/3568 [==============================] - 5s 1ms/step - loss: 0.4053 - acc: 0.9661\n",
      "Epoch 21/30\n",
      "3568/3568 [==============================] - 5s 1ms/step - loss: 0.3392 - acc: 0.9748\n",
      "Epoch 22/30\n",
      "3568/3568 [==============================] - 5s 1ms/step - loss: 0.2912 - acc: 0.9787\n",
      "Epoch 23/30\n",
      "3568/3568 [==============================] - 5s 1ms/step - loss: 0.2511 - acc: 0.9835\n",
      "Epoch 24/30\n",
      "3568/3568 [==============================] - 5s 1ms/step - loss: 0.2182 - acc: 0.9849\n",
      "Epoch 25/30\n",
      "3568/3568 [==============================] - 5s 1ms/step - loss: 0.1916 - acc: 0.9871\n",
      "Epoch 26/30\n",
      "3568/3568 [==============================] - 5s 1ms/step - loss: 0.1694 - acc: 0.9888\n",
      "Epoch 27/30\n",
      "3568/3568 [==============================] - 5s 1ms/step - loss: 0.1506 - acc: 0.9899\n",
      "Epoch 28/30\n",
      "3568/3568 [==============================] - 5s 1ms/step - loss: 0.1365 - acc: 0.9924\n",
      "Epoch 29/30\n",
      "3568/3568 [==============================] - 5s 1ms/step - loss: 0.1223 - acc: 0.9927\n",
      "Epoch 30/30\n",
      "3568/3568 [==============================] - 5s 1ms/step - loss: 0.1103 - acc: 0.9936\n"
     ]
    },
    {
     "data": {
      "text/plain": [
       "<keras.callbacks.History at 0x7fb838111650>"
      ]
     },
     "execution_count": 41,
     "metadata": {},
     "output_type": "execute_result"
    }
   ],
   "source": [
    "print(\"model fitting - HAN\")\n",
    "model.fit(x_train, y_train, epochs= 30, batch_size=100)"
   ]
  },
  {
   "cell_type": "code",
   "execution_count": 42,
   "metadata": {},
   "outputs": [],
   "source": [
    "model_vec = Model(inputs=review_input,outputs=attn_sentence)\n",
    "model_vec.compile(loss='categorical_crossentropy', optimizer='adam', metrics=['accuracy'])"
   ]
  },
  {
   "cell_type": "code",
   "execution_count": 43,
   "metadata": {},
   "outputs": [],
   "source": [
    "reviews = []\n",
    "labels = []\n",
    "texts = []"
   ]
  },
  {
   "cell_type": "code",
   "execution_count": 44,
   "metadata": {},
   "outputs": [],
   "source": [
    "for idx in range(x_cluster.review.shape[0]):\n",
    "    text = x_cluster.review[idx][1:-1]\n",
    "    text = clean_str(text)\n",
    "    texts.append(text)\n",
    "    sentences = tokenize.sent_tokenize(text)\n",
    "    reviews.append(sentences)\n",
    "    labels.append(x_cluster.condition[idx])"
   ]
  },
  {
   "cell_type": "code",
   "execution_count": 45,
   "metadata": {},
   "outputs": [],
   "source": [
    "tokenizer = Tokenizer(num_words = max_words)\n",
    "tokenizer.fit_on_texts(texts)"
   ]
  },
  {
   "cell_type": "code",
   "execution_count": 46,
   "metadata": {},
   "outputs": [],
   "source": [
    "cluster_data = np.zeros((len(texts), max_sentences, maxlen), dtype='int32')"
   ]
  },
  {
   "cell_type": "code",
   "execution_count": 47,
   "metadata": {},
   "outputs": [],
   "source": [
    "for i, sentences in enumerate(reviews):\n",
    "    for j, sent in enumerate(sentences):\n",
    "        if j < max_sentences:\n",
    "            wordTokens = text_to_word_sequence(sent)\n",
    "            k=0\n",
    "            for _, word in enumerate(wordTokens):\n",
    "                if k < maxlen and tokenizer.word_index[word] < max_words:\n",
    "                    cluster_data[i, j, k] = tokenizer.word_index[word]\n",
    "                    k=k+1"
   ]
  },
  {
   "cell_type": "code",
   "execution_count": 48,
   "metadata": {},
   "outputs": [
    {
     "name": "stdout",
     "output_type": "stream",
     "text": [
      "Total 13347 unique tokens.\n"
     ]
    }
   ],
   "source": [
    "word_index = tokenizer.word_index\n",
    "print('Total %s unique tokens.' % len(word_index))"
   ]
  },
  {
   "cell_type": "code",
   "execution_count": 49,
   "metadata": {},
   "outputs": [],
   "source": [
    "le = preprocessing.LabelEncoder()\n",
    "le.fit(labels)\n",
    "labels = le.transform(labels)"
   ]
  },
  {
   "cell_type": "code",
   "execution_count": 50,
   "metadata": {},
   "outputs": [],
   "source": [
    "indices = np.arange(cluster_data.shape[0])\n",
    "np.random.shuffle(indices)\n",
    "cluster_data = cluster_data[indices]\n",
    "labels = labels[indices]"
   ]
  },
  {
   "cell_type": "code",
   "execution_count": 51,
   "metadata": {},
   "outputs": [],
   "source": [
    "x_clustering_vec = model_vec.predict(cluster_data)"
   ]
  },
  {
   "cell_type": "code",
   "execution_count": 52,
   "metadata": {},
   "outputs": [
    {
     "data": {
      "text/plain": [
       "array([ 0.769361  , -0.99128675, -0.9859483 ,  0.98224705,  0.9947453 ,\n",
       "        0.0956172 ,  0.9548644 ,  0.88834065, -0.8517757 , -0.7319111 ,\n",
       "        0.86324155,  0.5141066 ,  0.87424934,  0.9999587 , -0.91478926,\n",
       "       -0.76712483, -0.83754945, -0.5064133 , -0.9988373 ,  0.9972186 ,\n",
       "       -0.33734605,  0.57290524, -0.97941995, -0.713676  ,  0.88162154,\n",
       "       -0.7707301 , -0.5443029 ,  0.9865489 ,  0.0202834 ,  0.5421521 ,\n",
       "       -0.8695007 ,  0.46117732,  0.2933588 ,  0.9042086 , -0.03750645,\n",
       "        0.9120785 ,  0.4464585 ,  0.05954254, -0.49035972, -0.6105219 ,\n",
       "        0.30978578, -0.15112706, -0.9561515 , -0.9999196 ,  0.9923498 ,\n",
       "        0.99492025,  0.95050985,  0.7896857 , -0.7072663 ,  0.87699217,\n",
       "       -0.994055  , -0.9867677 ,  0.7226644 ,  0.5960004 , -0.92906016,\n",
       "        0.9420817 ,  0.7346362 ,  0.63672143,  0.42150912,  0.75224775,\n",
       "       -0.88859004,  0.58844537, -0.8173968 , -0.5879041 ,  0.6337551 ,\n",
       "       -0.12213609,  0.9910602 , -0.22189647,  0.5846264 ,  0.8591616 ,\n",
       "        0.40430465,  0.9041592 ,  0.96763396, -0.719579  , -0.91968596,\n",
       "        0.09858076,  0.98511267,  0.65339357, -0.510843  , -0.32932538,\n",
       "       -0.6409918 ,  0.968029  , -0.34602928, -0.88042116,  0.7499472 ,\n",
       "       -0.17072582,  0.697176  ,  0.7089845 , -0.9377689 , -0.20742974,\n",
       "       -0.66965675, -0.07934526,  0.5827205 , -0.9322098 ,  0.9367705 ,\n",
       "        0.91841155, -0.13511238,  0.91130984, -0.6498987 , -0.28626725,\n",
       "        0.522791  , -0.9847425 ,  0.12321075, -0.93797517, -0.04576756,\n",
       "        0.8883239 , -0.9986922 , -0.9545099 , -0.93365353, -0.93623006,\n",
       "        0.97346765,  0.99839604,  0.9674215 , -0.01488973, -0.60841376,\n",
       "       -0.5389972 ,  0.8036138 , -0.99756217, -0.9996015 , -0.9730253 ,\n",
       "       -0.03666202,  0.00672685, -0.82900614, -0.91184545, -0.18249479,\n",
       "       -0.9413269 , -0.9998269 ,  0.9966828 , -0.5425816 , -0.99875766,\n",
       "        0.99983835, -0.9846516 , -0.19186164,  0.98705536, -0.9015292 ,\n",
       "       -0.94567907,  0.32720137,  0.98364764,  0.34343135, -0.46880537,\n",
       "        0.5331878 ,  0.89203405, -0.8225148 ,  0.32926765,  0.8913018 ,\n",
       "        0.9974965 , -0.9923754 ,  0.9722653 , -0.9833916 , -0.5644633 ,\n",
       "       -0.9701713 , -0.34924176, -0.7657497 ,  0.5612316 ,  0.95299613,\n",
       "       -0.42642233,  0.91830486, -0.18293986,  0.86532104,  0.784166  ,\n",
       "       -0.10965985, -0.8754596 , -0.15562084,  0.967429  ,  0.9268207 ,\n",
       "        0.99881643, -0.84212047,  0.87773716,  0.8362051 ,  0.7862976 ,\n",
       "       -0.872073  ,  0.93675315,  0.4279886 , -0.5825489 ,  0.9906588 ,\n",
       "        0.28803733,  0.99991876,  0.9920514 , -0.95965964,  0.81551605,\n",
       "       -0.09760039,  0.0144812 , -0.40513337, -0.48304212,  0.91271836,\n",
       "       -0.96839577, -0.95180625,  0.9478028 , -0.854264  , -0.11323122,\n",
       "        0.54769886,  0.9923227 ,  0.91773415, -0.99980325,  0.99486816,\n",
       "       -0.67597294,  0.88128954,  0.99756557,  0.8664136 ,  0.94476587],\n",
       "      dtype=float32)"
      ]
     },
     "execution_count": 52,
     "metadata": {},
     "output_type": "execute_result"
    }
   ],
   "source": [
    "x_clustering_vec[0]"
   ]
  },
  {
   "cell_type": "markdown",
   "metadata": {},
   "source": [
    "Pre Clustering Analysis"
   ]
  },
  {
   "cell_type": "code",
   "execution_count": 53,
   "metadata": {},
   "outputs": [
    {
     "data": {
      "image/png": "[encoded data removed]",
      "text/plain": [
       "<Figure size 432x288 with 1 Axes>"
      ]
     },
     "metadata": {
      "needs_background": "light"
     },
     "output_type": "display_data"
    }
   ],
   "source": [
    "\n",
    "pca = PCA(n_components=2)\n",
    "reduced = pca.fit_transform(x_clustering_vec[:100])\n",
    "\n",
    "t = reduced.transpose()\n",
    "\n",
    "plt.scatter(t[0], t[1])\n",
    "plt.show()"
   ]
  },
  {
   "cell_type": "markdown",
   "metadata": {},
   "source": [
    "Clustering Models"
   ]
  },
  {
   "cell_type": "code",
   "execution_count": 54,
   "metadata": {},
   "outputs": [],
   "source": [
    "def k_means(data, n_clusters=480, max_iter=1000):\n",
    "    model = KMeans(n_clusters=n_clusters, max_iter=max_iter).fit(data)\n",
    "    return model\n",
    "def agglomerative_fn(data, n_clusters=480):\n",
    "    model = AgglomerativeClustering(n_clusters = n_clusters).fit(data)\n",
    "    return model\n",
    "def dbscan_fn(data, eps=0.45, min_samples=4):\n",
    "    model = DBSCAN(eps=eps, min_samples=min_samples).fit(data)\n",
    "    return model\n",
    "def mean_shift_fn(data, bandwidth=0.85):\n",
    "    model = MeanShift(bandwidth=bandwidth).fit(data)\n",
    "    return model\n",
    "def birch_fn(data, n_clusters=480):\n",
    "    model = Birch(n_clusters=n_clusters).fit(data)\n",
    "    return model\n",
    "def affinity_propagation_fn(data, damping=0.6, max_iter=1000):\n",
    "    model = AffinityPropagation(damping=damping, max_iter=max_iter).fit(data)\n",
    "    return model\n",
    "def mini_batch_kmeans_fn(data, n_clusters=480, max_iter=1000):\n",
    "    model = MiniBatchKMeans(n_clusters=n_clusters, max_iter=max_iter, batch_size=20).fit(data)\n",
    "    return model"
   ]
  },
  {
   "cell_type": "code",
   "execution_count": 55,
   "metadata": {},
   "outputs": [],
   "source": [
    "def build_model(clustering_model, data, labels):\n",
    "    \n",
    "    model = clustering_model(data)\n",
    "\n",
    "    print('homo\\tcompl\\tv-meas\\tARI\\tAMI\\tsilhouette')\n",
    "    print(50 * '-')\n",
    "    \n",
    "    print('%.3f\\t%.3f\\t%.3f\\t%.3f\\t%.3f\\t%.3f'\n",
    "          %(metrics.homogeneity_score(labels, model.labels_),\n",
    "            metrics.completeness_score(labels, model.labels_),\n",
    "            metrics.v_measure_score(labels, model.labels_),\n",
    "            metrics.adjusted_rand_score(labels, model.labels_),\n",
    "            metrics.adjusted_mutual_info_score(labels,  model.labels_),\n",
    "            metrics.silhouette_score(data, model.labels_)))"
   ]
  },
  {
   "cell_type": "code",
   "execution_count": 56,
   "metadata": {},
   "outputs": [
    {
     "name": "stdout",
     "output_type": "stream",
     "text": [
      "homo\tcompl\tv-meas\tARI\tAMI\tsilhouette\n",
      "--------------------------------------------------\n",
      "0.605\t0.622\t0.613\t0.018\t0.054\t0.048\n"
     ]
    }
   ],
   "source": [
    "build_model(k_means, x_clustering_vec, labels)"
   ]
  },
  {
   "cell_type": "code",
   "execution_count": 57,
   "metadata": {},
   "outputs": [
    {
     "name": "stdout",
     "output_type": "stream",
     "text": [
      "homo\tcompl\tv-meas\tARI\tAMI\tsilhouette\n",
      "--------------------------------------------------\n",
      "0.619\t0.628\t0.623\t0.022\t0.061\t0.057\n"
     ]
    }
   ],
   "source": [
    "build_model(agglomerative_fn, x_clustering_vec, labels)"
   ]
  },
  {
   "cell_type": "code",
   "execution_count": 58,
   "metadata": {},
   "outputs": [
    {
     "name": "stdout",
     "output_type": "stream",
     "text": [
      "homo\tcompl\tv-meas\tARI\tAMI\tsilhouette\n",
      "--------------------------------------------------\n",
      "0.001\t0.576\t0.001\t0.000\t-0.000\t-0.160\n"
     ]
    }
   ],
   "source": [
    "build_model(dbscan_fn, x_clustering_vec, labels)"
   ]
  },
  {
   "cell_type": "code",
   "execution_count": 59,
   "metadata": {},
   "outputs": [
    {
     "name": "stdout",
     "output_type": "stream",
     "text": [
      "homo\tcompl\tv-meas\tARI\tAMI\tsilhouette\n",
      "--------------------------------------------------\n",
      "0.999\t0.726\t0.841\t0.028\t0.043\t0.154\n"
     ]
    }
   ],
   "source": [
    "build_model(mean_shift_fn, x_clustering_vec, labels)"
   ]
  },
  {
   "cell_type": "code",
   "execution_count": 60,
   "metadata": {},
   "outputs": [
    {
     "name": "stdout",
     "output_type": "stream",
     "text": [
      "homo\tcompl\tv-meas\tARI\tAMI\tsilhouette\n",
      "--------------------------------------------------\n",
      "0.617\t0.628\t0.623\t0.021\t0.061\t0.054\n"
     ]
    }
   ],
   "source": [
    "build_model(birch_fn, x_clustering_vec, labels)"
   ]
  },
  {
   "cell_type": "code",
   "execution_count": 61,
   "metadata": {},
   "outputs": [
    {
     "name": "stdout",
     "output_type": "stream",
     "text": [
      "homo\tcompl\tv-meas\tARI\tAMI\tsilhouette\n",
      "--------------------------------------------------\n",
      "0.532\t0.593\t0.561\t0.012\t0.046\t0.023\n"
     ]
    }
   ],
   "source": [
    "build_model(affinity_propagation_fn, x_clustering_vec, labels)"
   ]
  },
  {
   "cell_type": "code",
   "execution_count": 62,
   "metadata": {},
   "outputs": [
    {
     "name": "stdout",
     "output_type": "stream",
     "text": [
      "homo\tcompl\tv-meas\tARI\tAMI\tsilhouette\n",
      "--------------------------------------------------\n",
      "0.460\t0.566\t0.507\t0.004\t0.039\t-0.027\n"
     ]
    }
   ],
   "source": [
    "build_model(mini_batch_kmeans_fn, x_clustering_vec, labels)"
   ]
  },
  {
   "cell_type": "code",
   "execution_count": null,
   "metadata": {},
   "outputs": [],
   "source": []
  }
 ],
 "metadata": {
  "kernelspec": {
   "display_name": "Python 3",
   "language": "python",
   "name": "python3"
  },
  "language_info": {
   "codemirror_mode": {
    "name": "ipython",
    "version": 3
   },
   "file_extension": ".py",
   "mimetype": "text/x-python",
   "name": "python",
   "nbconvert_exporter": "python",
   "pygments_lexer": "ipython3",
   "version": "3.7.7"
  }
 },
 "nbformat": 4,
 "nbformat_minor": 4
}
