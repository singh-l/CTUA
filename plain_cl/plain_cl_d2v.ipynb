{
 "cells": [
  {
   "cell_type": "code",
   "execution_count": 39,
   "metadata": {},
   "outputs": [],
   "source": [
    "# IMPORTS BEGIN\n",
    "import os\n",
    "import re\n",
    "import numpy as np\n",
    "import pandas as pd\n",
    "from bs4 import BeautifulSoup\n",
    "from sklearn.utils import resample \n",
    "from keras import backend as K\n",
    "from keras.models import Model\n",
    "from keras import initializers\n",
    "from keras.engine.topology import Layer\n",
    "from keras.layers import Dense, Input\n",
    "from keras.layers import Embedding, GRU, Bidirectional, TimeDistributed\n",
    "from keras.preprocessing.text import Tokenizer, text_to_word_sequence\n",
    "from keras.utils.np_utils import to_categorical\n",
    "from sklearn.model_selection import train_test_split\n",
    "from nltk import tokenize\n",
    "from sklearn import preprocessing\n",
    "import warnings\n",
    "warnings.filterwarnings(\"ignore\")\n",
    "import pandas as pd\n",
    "import math\n",
    "import numpy as np\n",
    "from gensim.models import Word2Vec\n",
    "from sklearn import metrics\n",
    "from sklearn.cluster import KMeans\n",
    "from sklearn.cluster import AgglomerativeClustering\n",
    "from sklearn.cluster import DBSCAN\n",
    "from sklearn.cluster import MeanShift\n",
    "from sklearn.cluster import Birch\n",
    "from sklearn.cluster import AffinityPropagation\n",
    "from sklearn.cluster import MiniBatchKMeans\n",
    "from sklearn import preprocessing\n",
    "from sklearn.model_selection import ParameterGrid\n",
    "from matplotlib import pyplot\n",
    "from mpl_toolkits.mplot3d import Axes3D\n",
    "from sklearn.manifold import TSNE\n",
    "import matplotlib.pyplot as plt\n",
    "%matplotlib inline\n",
    "import seaborn as sns\n",
    "from sklearn.decomposition import PCA\n",
    "import numpy as np\n",
    "import matplotlib.pyplot as plt\n",
    "from sklearn.decomposition import PCA\n",
    "\n",
    "# IMPORTS END"
   ]
  },
  {
   "cell_type": "code",
   "execution_count": 2,
   "metadata": {},
   "outputs": [],
   "source": [
    "path_prefix = \"/mnt/SWTM_WORK/FEB_21/CSS_GRID_FS_LOG_DOWNLOADER/CSS_LOGS/5fca5177814ca51ee41de1b6/HW_CSS-FWR-IN-210_PlayList_AP100_SeqRandReadWrites/Driver_Logs/HW_LOGS/CTUA/\""
   ]
  },
  {
   "cell_type": "code",
   "execution_count": 3,
   "metadata": {},
   "outputs": [],
   "source": [
    "input_data1 = pd.read_csv(path_prefix+'drugscomTrain_raw.tsv', sep='\\t')\n",
    "input_data2 = pd.read_csv(path_prefix+'drugscomTest_raw.tsv', sep='\\t')\n",
    "input_data = pd.concat([input_data1, input_data2], ignore_index=True)"
   ]
  },
  {
   "cell_type": "code",
   "execution_count": 4,
   "metadata": {},
   "outputs": [],
   "source": [
    "def limit_count_per_column(df, column, low=10, high=20):\n",
    "    in_limits_df =  df.groupby(column).filter(lambda x: high>=len(x)>=low)\n",
    "    gt_limit_columns = list(df.groupby(column).filter(lambda x: len(x)>high)[column].unique())\n",
    "    for column_val in gt_limit_columns:\n",
    "        in_limits_df = pd.concat([in_limits_df,resample(df[df[column]==column_val]\n",
    "                                                      ,replace=False,n_samples=20,random_state=100)])\n",
    "    in_limits_df = in_limits_df.reset_index(drop=True)\n",
    "    return in_limits_df"
   ]
  },
  {
   "cell_type": "code",
   "execution_count": 5,
   "metadata": {},
   "outputs": [],
   "source": [
    "input_data = limit_count_per_column(input_data, 'condition')"
   ]
  },
  {
   "cell_type": "code",
   "execution_count": 6,
   "metadata": {},
   "outputs": [
    {
     "data": {
      "text/plain": [
       "(8920, 7)"
      ]
     },
     "execution_count": 6,
     "metadata": {},
     "output_type": "execute_result"
    }
   ],
   "source": [
    "input_data.shape"
   ]
  },
  {
   "cell_type": "code",
   "execution_count": 7,
   "metadata": {},
   "outputs": [],
   "source": [
    "input_data['id'] = 0\n",
    "input_data['id'] = input_data.index + 880"
   ]
  },
  {
   "cell_type": "code",
   "execution_count": 8,
   "metadata": {},
   "outputs": [],
   "source": [
    "input_data = input_data.rename(columns = {'review':'text','condition':'class'})"
   ]
  },
  {
   "cell_type": "code",
   "execution_count": 9,
   "metadata": {},
   "outputs": [],
   "source": [
    "input_data.to_csv('complete_data.csv')"
   ]
  },
  {
   "cell_type": "code",
   "execution_count": 10,
   "metadata": {},
   "outputs": [
    {
     "data": {
      "text/html": [
       "<div>\n",
       "<style scoped>\n",
       "    .dataframe tbody tr th:only-of-type {\n",
       "        vertical-align: middle;\n",
       "    }\n",
       "\n",
       "    .dataframe tbody tr th {\n",
       "        vertical-align: top;\n",
       "    }\n",
       "\n",
       "    .dataframe thead th {\n",
       "        text-align: right;\n",
       "    }\n",
       "</style>\n",
       "<table border=\"1\" class=\"dataframe\">\n",
       "  <thead>\n",
       "    <tr style=\"text-align: right;\">\n",
       "      <th></th>\n",
       "      <th>Unnamed: 0</th>\n",
       "      <th>drugName</th>\n",
       "      <th>class</th>\n",
       "      <th>text</th>\n",
       "      <th>rating</th>\n",
       "      <th>date</th>\n",
       "      <th>usefulCount</th>\n",
       "      <th>id</th>\n",
       "    </tr>\n",
       "  </thead>\n",
       "  <tbody>\n",
       "    <tr>\n",
       "      <th>0</th>\n",
       "      <td>34093</td>\n",
       "      <td>Zoledronic acid</td>\n",
       "      <td>Osteolytic Bone Metastases of Solid Tumors</td>\n",
       "      <td>\"I dreaded the side-effects and had NONE.  I h...</td>\n",
       "      <td>10.0</td>\n",
       "      <td>January 25, 2012</td>\n",
       "      <td>31</td>\n",
       "      <td>880</td>\n",
       "    </tr>\n",
       "    <tr>\n",
       "      <th>1</th>\n",
       "      <td>97654</td>\n",
       "      <td>Methimazole</td>\n",
       "      <td>Hyperthyroidism</td>\n",
       "      <td>\"My 6yr old daughter and I have been dealing w...</td>\n",
       "      <td>4.0</td>\n",
       "      <td>July 11, 2016</td>\n",
       "      <td>3</td>\n",
       "      <td>881</td>\n",
       "    </tr>\n",
       "    <tr>\n",
       "      <th>2</th>\n",
       "      <td>184954</td>\n",
       "      <td>Trolamine salicylate</td>\n",
       "      <td>Bursitis</td>\n",
       "      <td>\"Did help relieve some of the pain temporarily...</td>\n",
       "      <td>7.0</td>\n",
       "      <td>April 19, 2009</td>\n",
       "      <td>25</td>\n",
       "      <td>882</td>\n",
       "    </tr>\n",
       "    <tr>\n",
       "      <th>3</th>\n",
       "      <td>196987</td>\n",
       "      <td>Paroxetine</td>\n",
       "      <td>Trichotillomania</td>\n",
       "      <td>\"I have OCD, anxiety, and ADHD. I also pick my...</td>\n",
       "      <td>10.0</td>\n",
       "      <td>April 26, 2016</td>\n",
       "      <td>15</td>\n",
       "      <td>883</td>\n",
       "    </tr>\n",
       "    <tr>\n",
       "      <th>4</th>\n",
       "      <td>35476</td>\n",
       "      <td>Phenol</td>\n",
       "      <td>Sore Throat</td>\n",
       "      <td>\"I will personally attest to this,,,\\r\\n33 yea...</td>\n",
       "      <td>6.0</td>\n",
       "      <td>November 5, 2016</td>\n",
       "      <td>7</td>\n",
       "      <td>884</td>\n",
       "    </tr>\n",
       "    <tr>\n",
       "      <th>...</th>\n",
       "      <td>...</td>\n",
       "      <td>...</td>\n",
       "      <td>...</td>\n",
       "      <td>...</td>\n",
       "      <td>...</td>\n",
       "      <td>...</td>\n",
       "      <td>...</td>\n",
       "      <td>...</td>\n",
       "    </tr>\n",
       "    <tr>\n",
       "      <th>8915</th>\n",
       "      <td>22696</td>\n",
       "      <td>Midodrine</td>\n",
       "      <td>Postural Orthostatic Tachycardia Syndrome</td>\n",
       "      <td>\"Didn&amp;#039;t seem to lower my heart rate very ...</td>\n",
       "      <td>3.0</td>\n",
       "      <td>October 1, 2010</td>\n",
       "      <td>34</td>\n",
       "      <td>9795</td>\n",
       "    </tr>\n",
       "    <tr>\n",
       "      <th>8916</th>\n",
       "      <td>46963</td>\n",
       "      <td>Fludrocortisone</td>\n",
       "      <td>Postural Orthostatic Tachycardia Syndrome</td>\n",
       "      <td>\"I have taken this medicine along with Toprol-...</td>\n",
       "      <td>10.0</td>\n",
       "      <td>August 10, 2010</td>\n",
       "      <td>14</td>\n",
       "      <td>9796</td>\n",
       "    </tr>\n",
       "    <tr>\n",
       "      <th>8917</th>\n",
       "      <td>41794</td>\n",
       "      <td>Clonidine</td>\n",
       "      <td>Postural Orthostatic Tachycardia Syndrome</td>\n",
       "      <td>\"Very useful for helping to level out the surg...</td>\n",
       "      <td>9.0</td>\n",
       "      <td>May 18, 2013</td>\n",
       "      <td>23</td>\n",
       "      <td>9797</td>\n",
       "    </tr>\n",
       "    <tr>\n",
       "      <th>8918</th>\n",
       "      <td>163400</td>\n",
       "      <td>Methylphenidate</td>\n",
       "      <td>Postural Orthostatic Tachycardia Syndrome</td>\n",
       "      <td>\"Two months ago, I was unable to work or to dr...</td>\n",
       "      <td>8.0</td>\n",
       "      <td>January 16, 2017</td>\n",
       "      <td>5</td>\n",
       "      <td>9798</td>\n",
       "    </tr>\n",
       "    <tr>\n",
       "      <th>8919</th>\n",
       "      <td>22687</td>\n",
       "      <td>Midodrine</td>\n",
       "      <td>Postural Orthostatic Tachycardia Syndrome</td>\n",
       "      <td>\"I have been diagnosed with Dysautonomia &amp;amp;...</td>\n",
       "      <td>8.0</td>\n",
       "      <td>October 3, 2015</td>\n",
       "      <td>12</td>\n",
       "      <td>9799</td>\n",
       "    </tr>\n",
       "  </tbody>\n",
       "</table>\n",
       "<p>8920 rows × 8 columns</p>\n",
       "</div>"
      ],
      "text/plain": [
       "      Unnamed: 0              drugName  \\\n",
       "0          34093       Zoledronic acid   \n",
       "1          97654           Methimazole   \n",
       "2         184954  Trolamine salicylate   \n",
       "3         196987            Paroxetine   \n",
       "4          35476                Phenol   \n",
       "...          ...                   ...   \n",
       "8915       22696             Midodrine   \n",
       "8916       46963       Fludrocortisone   \n",
       "8917       41794             Clonidine   \n",
       "8918      163400       Methylphenidate   \n",
       "8919       22687             Midodrine   \n",
       "\n",
       "                                           class  \\\n",
       "0     Osteolytic Bone Metastases of Solid Tumors   \n",
       "1                                Hyperthyroidism   \n",
       "2                                       Bursitis   \n",
       "3                               Trichotillomania   \n",
       "4                                    Sore Throat   \n",
       "...                                          ...   \n",
       "8915   Postural Orthostatic Tachycardia Syndrome   \n",
       "8916   Postural Orthostatic Tachycardia Syndrome   \n",
       "8917   Postural Orthostatic Tachycardia Syndrome   \n",
       "8918   Postural Orthostatic Tachycardia Syndrome   \n",
       "8919   Postural Orthostatic Tachycardia Syndrome   \n",
       "\n",
       "                                                   text  rating  \\\n",
       "0     \"I dreaded the side-effects and had NONE.  I h...    10.0   \n",
       "1     \"My 6yr old daughter and I have been dealing w...     4.0   \n",
       "2     \"Did help relieve some of the pain temporarily...     7.0   \n",
       "3     \"I have OCD, anxiety, and ADHD. I also pick my...    10.0   \n",
       "4     \"I will personally attest to this,,,\\r\\n33 yea...     6.0   \n",
       "...                                                 ...     ...   \n",
       "8915  \"Didn&#039;t seem to lower my heart rate very ...     3.0   \n",
       "8916  \"I have taken this medicine along with Toprol-...    10.0   \n",
       "8917  \"Very useful for helping to level out the surg...     9.0   \n",
       "8918  \"Two months ago, I was unable to work or to dr...     8.0   \n",
       "8919  \"I have been diagnosed with Dysautonomia &amp;...     8.0   \n",
       "\n",
       "                  date  usefulCount    id  \n",
       "0     January 25, 2012           31   880  \n",
       "1        July 11, 2016            3   881  \n",
       "2       April 19, 2009           25   882  \n",
       "3       April 26, 2016           15   883  \n",
       "4     November 5, 2016            7   884  \n",
       "...                ...          ...   ...  \n",
       "8915   October 1, 2010           34  9795  \n",
       "8916   August 10, 2010           14  9796  \n",
       "8917      May 18, 2013           23  9797  \n",
       "8918  January 16, 2017            5  9798  \n",
       "8919   October 3, 2015           12  9799  \n",
       "\n",
       "[8920 rows x 8 columns]"
      ]
     },
     "execution_count": 10,
     "metadata": {},
     "output_type": "execute_result"
    }
   ],
   "source": [
    "input_data "
   ]
  },
  {
   "cell_type": "code",
   "execution_count": 11,
   "metadata": {},
   "outputs": [],
   "source": [
    "from d2v_pre import d2v_pre\n",
    "from getEmbeddings import getEmbeddings\n",
    "import numpy as np\n",
    "\n",
    "d2v_pre('complete_data.csv')\n",
    "\n",
    "x,y = getEmbeddings('complete_data_doc2vec.csv')"
   ]
  },
  {
   "cell_type": "code",
   "execution_count": 12,
   "metadata": {},
   "outputs": [
    {
     "data": {
      "text/plain": [
       "array([323., 221.,  95., ..., 362., 362., 362.])"
      ]
     },
     "execution_count": 12,
     "metadata": {},
     "output_type": "execute_result"
    }
   ],
   "source": [
    "y"
   ]
  },
  {
   "cell_type": "code",
   "execution_count": 13,
   "metadata": {},
   "outputs": [
    {
     "data": {
      "text/plain": [
       "(8920, 300)"
      ]
     },
     "execution_count": 13,
     "metadata": {},
     "output_type": "execute_result"
    }
   ],
   "source": [
    "x.shape"
   ]
  },
  {
   "cell_type": "markdown",
   "metadata": {},
   "source": [
    "Vector Visualization"
   ]
  },
  {
   "cell_type": "code",
   "execution_count": 14,
   "metadata": {},
   "outputs": [
    {
     "data": {
      "text/plain": [
       "array([ 4.52083023e-03, -3.96923954e-03, -2.09783632e-02,  7.43732899e-02,\n",
       "        1.45194698e-02, -5.25866123e-03, -3.63352969e-02,  2.62472183e-02,\n",
       "       -4.09295969e-02, -5.17643094e-02, -5.92342317e-02, -1.27808675e-02,\n",
       "       -9.17322282e-03,  2.23895628e-02, -3.29361558e-02,  6.81831548e-03,\n",
       "       -1.54599603e-02,  4.28135730e-02,  2.87868381e-02, -4.57566753e-02,\n",
       "       -2.23694686e-02,  1.21360160e-02,  4.64417040e-03, -6.13561533e-02,\n",
       "        3.12122684e-02,  4.07536440e-02, -7.32638538e-02, -6.72882348e-02,\n",
       "        4.12702560e-03, -5.14443917e-03, -2.30196174e-02, -3.77197452e-02,\n",
       "        4.75223847e-02, -2.82760859e-02, -4.24565934e-03, -8.02361965e-02,\n",
       "       -3.93369198e-02,  3.18238288e-02, -8.27607661e-02,  4.46931161e-02,\n",
       "       -1.80523954e-02,  5.54470718e-02, -1.29411451e-03, -5.92665421e-03,\n",
       "       -5.64973317e-02, -2.77021993e-02, -1.23728067e-02, -7.21133733e-03,\n",
       "        2.08311975e-02, -1.51689593e-02, -3.24043855e-02, -2.38005277e-02,\n",
       "       -5.26013970e-03,  1.19477874e-02, -3.96482944e-02,  1.01805441e-01,\n",
       "       -3.00513804e-02, -1.79543328e-02,  7.14431237e-03, -7.46128010e-03,\n",
       "       -5.93197271e-02,  1.14232581e-02, -4.43753153e-02, -1.98648740e-02,\n",
       "       -3.82844247e-02, -2.10391041e-02, -6.74521551e-02,  4.04156931e-02,\n",
       "        2.77984273e-02, -3.02819312e-02,  1.50051331e-02,  3.20126000e-03,\n",
       "        2.44990308e-02,  3.47732450e-03, -7.55371228e-02,  2.48542354e-02,\n",
       "       -1.48105919e-02, -3.60670127e-02, -9.33436863e-03,  6.11842126e-02,\n",
       "       -1.89230870e-02,  5.71732670e-02,  5.40128499e-02, -3.94564345e-02,\n",
       "        1.61153115e-02, -2.38544885e-02, -2.53111813e-02,  3.93514000e-02,\n",
       "        2.05886476e-02, -7.38289673e-03,  1.91503037e-02, -4.28125225e-02,\n",
       "       -2.83321701e-02, -6.45378083e-02,  1.25024421e-02,  2.83293612e-03,\n",
       "        3.32302861e-02,  1.38982162e-02,  6.02647802e-03, -3.15311924e-02,\n",
       "        1.04953796e-01,  1.39107583e-02,  1.46053825e-02,  3.74738351e-02,\n",
       "       -6.56179339e-02, -2.56736716e-03, -2.11848598e-03,  1.66503880e-02,\n",
       "       -2.35997289e-02, -1.59237795e-02,  1.90474540e-02, -1.25509426e-01,\n",
       "       -5.05092815e-02, -5.69051169e-02,  4.16381061e-02, -1.90832857e-02,\n",
       "        1.68207642e-02, -1.62515026e-02,  7.51767727e-03, -5.49724698e-02,\n",
       "       -2.41997074e-02,  4.41956741e-04,  7.35721737e-03, -4.75876331e-02,\n",
       "       -2.07753740e-02, -2.68743802e-02, -1.13107543e-02,  2.40848400e-03,\n",
       "       -3.01291738e-02, -2.46641487e-02, -5.02776206e-02, -4.49585579e-02,\n",
       "        7.59952515e-02, -7.66182244e-02,  3.22830444e-03,  2.42755432e-02,\n",
       "        2.65186112e-02,  1.10013667e-03,  1.30647421e-03,  3.61484177e-02,\n",
       "        1.21965464e-02,  2.37739738e-02,  5.04561467e-03,  2.52081305e-02,\n",
       "       -2.67303959e-02,  2.50456985e-02,  1.39028474e-03,  4.58045863e-02,\n",
       "        3.17584760e-02, -3.46227959e-02,  2.99201477e-02,  9.33117121e-02,\n",
       "       -8.44298080e-02,  9.71806142e-03, -1.88191030e-02, -6.83781505e-03,\n",
       "        3.27809388e-03,  1.63465999e-02, -3.96774560e-02,  5.20991124e-02,\n",
       "       -1.91471167e-02,  7.86081553e-02, -7.21852202e-03, -2.92724371e-02,\n",
       "        1.74762122e-02,  4.53526601e-02,  1.59803797e-02,  3.63032296e-02,\n",
       "        4.20329794e-02, -1.97907649e-02, -5.45507632e-02,  1.31600886e-03,\n",
       "        3.63502279e-02, -7.13418797e-02,  5.92441149e-02, -7.95838330e-03,\n",
       "       -1.96056925e-02, -2.84015667e-02,  4.11822200e-02, -8.42631459e-02,\n",
       "        5.01170754e-02,  4.83349189e-02, -2.75298320e-02, -9.53172147e-03,\n",
       "       -4.98877950e-02,  3.67605053e-02, -1.68628385e-03,  4.25242782e-02,\n",
       "       -3.96905541e-02, -1.30652469e-02,  4.46838699e-02, -4.62691113e-03,\n",
       "       -5.37635833e-02,  3.48894931e-02,  5.08673228e-02, -1.17511852e-02,\n",
       "        5.05704898e-03, -1.05568295e-04, -3.49662602e-02,  1.01610376e-02,\n",
       "        6.66126683e-02,  2.15936638e-02, -6.70179352e-02, -1.16567360e-02,\n",
       "       -1.05116367e-02, -6.00824729e-02,  8.44062306e-05, -2.69038999e-03,\n",
       "        8.18126090e-03,  3.81572023e-02, -4.48401161e-02,  6.56999275e-02,\n",
       "       -2.27985699e-02, -5.61192036e-02,  2.33693067e-02, -1.26139522e-02,\n",
       "       -4.46419157e-02, -1.83146466e-02, -4.37926203e-02,  1.48552498e-02,\n",
       "       -8.02333560e-03,  2.77228113e-02,  3.52981910e-02,  5.72877526e-02,\n",
       "        3.55510153e-02, -5.14424257e-02, -7.81447068e-02,  3.00061088e-02,\n",
       "        3.71241458e-02,  5.97118251e-02,  3.48219909e-02, -6.98979273e-02,\n",
       "        2.29375754e-02, -1.42277461e-02,  2.08938122e-02,  2.07113419e-02,\n",
       "       -2.60726418e-02, -1.89054906e-02, -6.74761087e-02,  1.78217869e-02,\n",
       "       -2.00267974e-02,  3.96610014e-02, -8.83573666e-02,  2.51546819e-02,\n",
       "        5.60561195e-03, -4.52268347e-02, -4.83411513e-02, -1.58834085e-02,\n",
       "        4.05113548e-02,  6.79881200e-02, -3.09124906e-02,  7.78376237e-02,\n",
       "       -6.89761527e-03, -1.19131235e-02, -3.10016107e-02,  1.16206437e-01,\n",
       "        3.10089085e-02, -5.83993085e-03,  9.47727449e-03, -3.06358561e-02,\n",
       "       -4.01123567e-03,  3.37640233e-02,  3.79308350e-02, -4.59933281e-02,\n",
       "       -2.90497132e-02,  3.20701972e-02,  3.70048583e-02,  8.73624980e-02,\n",
       "        8.71799327e-03,  1.31889516e-02, -2.26530638e-02,  2.15102565e-02,\n",
       "        1.97155345e-02,  1.00190565e-02,  3.68137890e-03, -3.44287381e-02,\n",
       "       -2.25178152e-02,  2.35879067e-02, -4.10141647e-02,  2.91944463e-02,\n",
       "        1.64228224e-03,  2.45694071e-02,  1.52217653e-02,  5.07987291e-02,\n",
       "       -6.96595153e-03, -4.76679876e-02, -3.34969759e-02, -7.35480199e-03,\n",
       "       -9.86872613e-03, -2.85139307e-02, -2.33062860e-02, -8.42019450e-03,\n",
       "       -3.17147337e-02, -6.71708211e-02, -3.67376916e-02,  1.01932026e-02,\n",
       "       -2.22361404e-02,  4.03204858e-02,  1.99785661e-02, -1.81431901e-02])"
      ]
     },
     "execution_count": 14,
     "metadata": {},
     "output_type": "execute_result"
    }
   ],
   "source": [
    "x[0]"
   ]
  },
  {
   "cell_type": "markdown",
   "metadata": {},
   "source": [
    "Pre Clustering Analysis Plot"
   ]
  },
  {
   "cell_type": "code",
   "execution_count": 15,
   "metadata": {},
   "outputs": [
    {
     "data": {
      "image/png": "[encoded data removed]",
      "text/plain": [
       "<Figure size 432x288 with 1 Axes>"
      ]
     },
     "metadata": {
      "needs_background": "light"
     },
     "output_type": "display_data"
    }
   ],
   "source": [
    "\n",
    "pca = PCA(n_components=2)\n",
    "reduced = pca.fit_transform(x[:100])\n",
    "\n",
    "t = reduced.transpose()\n",
    "\n",
    "plt.scatter(t[0], t[1])\n",
    "plt.show()"
   ]
  },
  {
   "cell_type": "markdown",
   "metadata": {},
   "source": [
    "Clustering Models"
   ]
  },
  {
   "cell_type": "code",
   "execution_count": 16,
   "metadata": {},
   "outputs": [],
   "source": [
    "def k_means(data, n_clusters=480, max_iter=1000):\n",
    "    model = KMeans(n_clusters=n_clusters, max_iter=max_iter).fit(data)\n",
    "    return model\n",
    "def agglomerative_fn(data, n_clusters=480):\n",
    "    model = AgglomerativeClustering(n_clusters = n_clusters).fit(data)\n",
    "    return model\n",
    "def dbscan_fn(data, eps=0.45, min_samples=4):\n",
    "    model = DBSCAN(eps=eps, min_samples=min_samples).fit(data)\n",
    "    return model\n",
    "def mean_shift_fn(data, bandwidth=0.85):\n",
    "    model = MeanShift(bandwidth=bandwidth).fit(data)\n",
    "    return model\n",
    "def birch_fn(data, n_clusters=480):\n",
    "    model = Birch(n_clusters=n_clusters).fit(data)\n",
    "    return model\n",
    "def affinity_propagation_fn(data, damping=0.6, max_iter=1000):\n",
    "    model = AffinityPropagation(damping=damping, max_iter=max_iter).fit(data)\n",
    "    return model\n",
    "def mini_batch_kmeans_fn(data, n_clusters=480, max_iter=1000):\n",
    "    model = MiniBatchKMeans(n_clusters=n_clusters, max_iter=max_iter, batch_size=20).fit(data)\n",
    "    return model"
   ]
  },
  {
   "cell_type": "code",
   "execution_count": 36,
   "metadata": {},
   "outputs": [],
   "source": [
    "def build_model(clustering_model, data, labels):\n",
    "    \n",
    "    model = clustering_model(data)\n",
    "\n",
    "    print('homo\\tcompl\\tv-meas\\tARI\\tAMI\\tsilhouette')\n",
    "    print(50 * '-')\n",
    "    \n",
    "    print('%.3f\\t%.3f\\t%.3f\\t%.3f\\t%.3f\\t%.3f'\n",
    "          %(metrics.homogeneity_score(labels, model.labels_),\n",
    "            metrics.completeness_score(labels, model.labels_),\n",
    "            metrics.v_measure_score(labels, model.labels_),\n",
    "            metrics.adjusted_rand_score(labels, model.labels_),\n",
    "            metrics.adjusted_mutual_info_score(labels,  model.labels_),\n",
    "            metrics.silhouette_score(data, model.labels_)))"
   ]
  },
  {
   "cell_type": "code",
   "execution_count": 18,
   "metadata": {},
   "outputs": [
    {
     "name": "stdout",
     "output_type": "stream",
     "text": [
      "homo\tcompl\tv-meas\tARI\tAMI\tsilhouette\n",
      "--------------------------------------------------\n",
      "0.498\t0.514\t0.506\t0.000\t0.002\t0.008\n"
     ]
    }
   ],
   "source": [
    "build_model(k_means, x, y)"
   ]
  },
  {
   "cell_type": "code",
   "execution_count": 19,
   "metadata": {},
   "outputs": [
    {
     "name": "stdout",
     "output_type": "stream",
     "text": [
      "homo\tcompl\tv-meas\tARI\tAMI\tsilhouette\n",
      "--------------------------------------------------\n",
      "0.502\t0.516\t0.509\t0.000\t0.002\t0.012\n"
     ]
    }
   ],
   "source": [
    "build_model(agglomerative_fn, x, y)"
   ]
  },
  {
   "cell_type": "code",
   "execution_count": 22,
   "metadata": {},
   "outputs": [
    {
     "name": "stdout",
     "output_type": "stream",
     "text": [
      "homo\tcompl\tv-meas\tARI\tAMI\tsilhouette\n",
      "--------------------------------------------------\n",
      "-0.000\t1.000\t-0.000\t0.000\t-0.000\n"
     ]
    }
   ],
   "source": [
    "build_model(dbscan_fn, x, y)"
   ]
  },
  {
   "cell_type": "code",
   "execution_count": 30,
   "metadata": {},
   "outputs": [
    {
     "name": "stdout",
     "output_type": "stream",
     "text": [
      "homo\tcompl\tv-meas\tARI\tAMI\tsilhouette\n",
      "--------------------------------------------------\n",
      "-0.000\t1.000\t-0.000\t0.000\t-0.000\n"
     ]
    }
   ],
   "source": [
    "build_model(mean_shift_fn, x, y)"
   ]
  },
  {
   "cell_type": "code",
   "execution_count": 34,
   "metadata": {},
   "outputs": [
    {
     "name": "stdout",
     "output_type": "stream",
     "text": [
      "homo\tcompl\tv-meas\tARI\tAMI\tsilhouette\n",
      "--------------------------------------------------\n",
      "-0.000\t1.000\t-0.000\t0.000\t-0.000\n"
     ]
    }
   ],
   "source": [
    "build_model(birch_fn,x, y)"
   ]
  },
  {
   "cell_type": "code",
   "execution_count": 37,
   "metadata": {},
   "outputs": [
    {
     "name": "stdout",
     "output_type": "stream",
     "text": [
      "homo\tcompl\tv-meas\tARI\tAMI\tsilhouette\n",
      "--------------------------------------------------\n",
      "0.917\t0.659\t0.767\t0.001\t0.003\t0.018\n"
     ]
    }
   ],
   "source": [
    "build_model(affinity_propagation_fn, x, y)"
   ]
  },
  {
   "cell_type": "code",
   "execution_count": 38,
   "metadata": {},
   "outputs": [
    {
     "name": "stdout",
     "output_type": "stream",
     "text": [
      "homo\tcompl\tv-meas\tARI\tAMI\tsilhouette\n",
      "--------------------------------------------------\n",
      "0.277\t0.386\t0.322\t0.000\t0.004\t-0.058\n"
     ]
    }
   ],
   "source": [
    "build_model(mini_batch_kmeans_fn, x, y)"
   ]
  },
  {
   "cell_type": "code",
   "execution_count": null,
   "metadata": {},
   "outputs": [],
   "source": []
  }
 ],
 "metadata": {
  "kernelspec": {
   "display_name": "Python 3",
   "language": "python",
   "name": "python3"
  },
  "language_info": {
   "codemirror_mode": {
    "name": "ipython",
    "version": 3
   },
   "file_extension": ".py",
   "mimetype": "text/x-python",
   "name": "python",
   "nbconvert_exporter": "python",
   "pygments_lexer": "ipython3",
   "version": "3.7.3"
  }
 },
 "nbformat": 4,
 "nbformat_minor": 4
}
