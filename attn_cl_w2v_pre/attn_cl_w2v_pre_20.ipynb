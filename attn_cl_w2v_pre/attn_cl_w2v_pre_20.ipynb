{
 "cells": [
  {
   "cell_type": "markdown",
   "metadata": {},
   "source": [
    "<h5> Attention Mechanism Enabled Clustering using pre trained word vectors </h5>"
   ]
  },
  {
   "cell_type": "code",
   "execution_count": 73,
   "metadata": {},
   "outputs": [],
   "source": [
    "# IMPORTS BEGIN\n",
    "import os\n",
    "import re\n",
    "import numpy as np\n",
    "import pandas as pd\n",
    "from bs4 import BeautifulSoup\n",
    "from sklearn.utils import resample \n",
    "from keras import backend as K\n",
    "from keras.models import Model\n",
    "from keras import initializers\n",
    "from keras.engine.topology import Layer\n",
    "from keras.layers import Dense, Input\n",
    "from keras.layers import Embedding, GRU, Bidirectional, TimeDistributed\n",
    "from keras.preprocessing.text import Tokenizer, text_to_word_sequence\n",
    "from keras.utils.np_utils import to_categorical\n",
    "from sklearn.model_selection import train_test_split\n",
    "from nltk import tokenize\n",
    "from sklearn import preprocessing\n",
    "import warnings\n",
    "warnings.filterwarnings(\"ignore\")\n",
    "import pandas as pd\n",
    "import math\n",
    "import numpy as np\n",
    "from gensim.models import Word2Vec\n",
    "from sklearn import metrics\n",
    "from sklearn.cluster import KMeans\n",
    "from sklearn.cluster import AgglomerativeClustering\n",
    "from sklearn.cluster import DBSCAN\n",
    "from sklearn.cluster import MeanShift\n",
    "from sklearn.cluster import Birch\n",
    "from sklearn.cluster import AffinityPropagation\n",
    "from sklearn.cluster import MiniBatchKMeans\n",
    "from sklearn import preprocessing\n",
    "from sklearn.model_selection import ParameterGrid\n",
    "from matplotlib import pyplot\n",
    "from mpl_toolkits.mplot3d import Axes3D\n",
    "from sklearn.manifold import TSNE\n",
    "import matplotlib.pyplot as plt\n",
    "%matplotlib inline\n",
    "import seaborn as sns\n",
    "from sklearn.decomposition import PCA\n",
    "import numpy as np\n",
    "import matplotlib.pyplot as plt\n",
    "from sklearn.decomposition import PCA\n",
    "\n",
    "# IMPORTS END"
   ]
  },
  {
   "cell_type": "code",
   "execution_count": 74,
   "metadata": {},
   "outputs": [],
   "source": [
    "# GLOBALS BEGIN\n",
    "maxlen=100\n",
    "max_sentences=15\n",
    "max_words=20000\n",
    "embedding_dim=100\n",
    "reviews=[]\n",
    "labels=[]\n",
    "texts=[]\n",
    "embeddings_index={}\n",
    "# GLOBALS END"
   ]
  },
  {
   "cell_type": "markdown",
   "metadata": {},
   "source": [
    "Class Defining Custom Attention Layer"
   ]
  },
  {
   "cell_type": "code",
   "execution_count": 75,
   "metadata": {},
   "outputs": [],
   "source": [
    "class Attention(Layer):\n",
    "    def __init__(self, attention_dim):\n",
    "        self.init = initializers.get('normal')\n",
    "        self.supports_masking = True\n",
    "        self.attention_dim = attention_dim\n",
    "        super(Attention, self).__init__()\n",
    "\n",
    "    def build(self, input_shape):\n",
    "        assert len(input_shape) == 3\n",
    "        self.W = K.variable(self.init((input_shape[-1], self.attention_dim)))\n",
    "        self.b = K.variable(self.init((self.attention_dim,)))\n",
    "        self.u = K.variable(self.init((self.attention_dim, 1)))\n",
    "        self.trainable_weights = [self.W, self.b, self.u]\n",
    "        super(Attention, self).build(input_shape)\n",
    "\n",
    "    def compute_mask(self, inputs, mask=None):\n",
    "        return None\n",
    "\n",
    "    def call(self, x, mask=None):\n",
    "        # size of x :[batch_size, sel_len, attention_dim]\n",
    "        # size of u :[batch_size, attention_dim]\n",
    "        # uit = tanh(xW+b)\n",
    "        uit = K.tanh(K.bias_add(K.dot(x, self.W), self.b))\n",
    "\n",
    "        ait = K.exp(K.squeeze(K.dot(uit, self.u), -1))\n",
    "\n",
    "        if mask is not None:\n",
    "            # Cast the mask to floatX to avoid float64 upcasting\n",
    "            ait *= K.cast(mask, K.floatx())\n",
    "        ait /= K.cast(K.sum(ait, axis=1, keepdims=True) + K.epsilon(), K.floatx())\n",
    "        weighted_input = x * K.expand_dims(ait)\n",
    "        output = K.sum(weighted_input, axis=1)\n",
    "\n",
    "        return output\n",
    "\n",
    "    def compute_output_shape(self, input_shape):\n",
    "        return input_shape[0], input_shape[-1]"
   ]
  },
  {
   "cell_type": "markdown",
   "metadata": {},
   "source": [
    "Data Reading and Analysis"
   ]
  },
  {
   "cell_type": "code",
   "execution_count": 76,
   "metadata": {},
   "outputs": [],
   "source": [
    "input_data1 = pd.read_csv('drugscomTrain_raw.tsv', sep='\\t')\n",
    "input_data2 = pd.read_csv('drugscomTest_raw.tsv', sep='\\t')\n",
    "input_data = pd.concat([input_data1, input_data2], ignore_index=True)"
   ]
  },
  {
   "cell_type": "code",
   "execution_count": 77,
   "metadata": {},
   "outputs": [
    {
     "data": {
      "text/html": [
       "<div>\n",
       "<style scoped>\n",
       "    .dataframe tbody tr th:only-of-type {\n",
       "        vertical-align: middle;\n",
       "    }\n",
       "\n",
       "    .dataframe tbody tr th {\n",
       "        vertical-align: top;\n",
       "    }\n",
       "\n",
       "    .dataframe thead th {\n",
       "        text-align: right;\n",
       "    }\n",
       "</style>\n",
       "<table border=\"1\" class=\"dataframe\">\n",
       "  <thead>\n",
       "    <tr style=\"text-align: right;\">\n",
       "      <th></th>\n",
       "      <th>Unnamed: 0</th>\n",
       "      <th>drugName</th>\n",
       "      <th>condition</th>\n",
       "      <th>review</th>\n",
       "      <th>rating</th>\n",
       "      <th>date</th>\n",
       "      <th>usefulCount</th>\n",
       "    </tr>\n",
       "  </thead>\n",
       "  <tbody>\n",
       "    <tr>\n",
       "      <th>0</th>\n",
       "      <td>206461</td>\n",
       "      <td>Valsartan</td>\n",
       "      <td>Left Ventricular Dysfunction</td>\n",
       "      <td>\"It has no side effect, I take it in combinati...</td>\n",
       "      <td>9.0</td>\n",
       "      <td>May 20, 2012</td>\n",
       "      <td>27</td>\n",
       "    </tr>\n",
       "    <tr>\n",
       "      <th>1</th>\n",
       "      <td>95260</td>\n",
       "      <td>Guanfacine</td>\n",
       "      <td>ADHD</td>\n",
       "      <td>\"My son is halfway through his fourth week of ...</td>\n",
       "      <td>8.0</td>\n",
       "      <td>April 27, 2010</td>\n",
       "      <td>192</td>\n",
       "    </tr>\n",
       "    <tr>\n",
       "      <th>2</th>\n",
       "      <td>92703</td>\n",
       "      <td>Lybrel</td>\n",
       "      <td>Birth Control</td>\n",
       "      <td>\"I used to take another oral contraceptive, wh...</td>\n",
       "      <td>5.0</td>\n",
       "      <td>December 14, 2009</td>\n",
       "      <td>17</td>\n",
       "    </tr>\n",
       "    <tr>\n",
       "      <th>3</th>\n",
       "      <td>138000</td>\n",
       "      <td>Ortho Evra</td>\n",
       "      <td>Birth Control</td>\n",
       "      <td>\"This is my first time using any form of birth...</td>\n",
       "      <td>8.0</td>\n",
       "      <td>November 3, 2015</td>\n",
       "      <td>10</td>\n",
       "    </tr>\n",
       "    <tr>\n",
       "      <th>4</th>\n",
       "      <td>35696</td>\n",
       "      <td>Buprenorphine / naloxone</td>\n",
       "      <td>Opiate Dependence</td>\n",
       "      <td>\"Suboxone has completely turned my life around...</td>\n",
       "      <td>9.0</td>\n",
       "      <td>November 27, 2016</td>\n",
       "      <td>37</td>\n",
       "    </tr>\n",
       "    <tr>\n",
       "      <th>...</th>\n",
       "      <td>...</td>\n",
       "      <td>...</td>\n",
       "      <td>...</td>\n",
       "      <td>...</td>\n",
       "      <td>...</td>\n",
       "      <td>...</td>\n",
       "      <td>...</td>\n",
       "    </tr>\n",
       "    <tr>\n",
       "      <th>215058</th>\n",
       "      <td>159999</td>\n",
       "      <td>Tamoxifen</td>\n",
       "      <td>Breast Cancer, Prevention</td>\n",
       "      <td>\"I have taken Tamoxifen for 5 years. Side effe...</td>\n",
       "      <td>10.0</td>\n",
       "      <td>September 13, 2014</td>\n",
       "      <td>43</td>\n",
       "    </tr>\n",
       "    <tr>\n",
       "      <th>215059</th>\n",
       "      <td>140714</td>\n",
       "      <td>Escitalopram</td>\n",
       "      <td>Anxiety</td>\n",
       "      <td>\"I&amp;#039;ve been taking Lexapro (escitaploprgra...</td>\n",
       "      <td>9.0</td>\n",
       "      <td>October 8, 2016</td>\n",
       "      <td>11</td>\n",
       "    </tr>\n",
       "    <tr>\n",
       "      <th>215060</th>\n",
       "      <td>130945</td>\n",
       "      <td>Levonorgestrel</td>\n",
       "      <td>Birth Control</td>\n",
       "      <td>\"I&amp;#039;m married, 34 years old and I have no ...</td>\n",
       "      <td>8.0</td>\n",
       "      <td>November 15, 2010</td>\n",
       "      <td>7</td>\n",
       "    </tr>\n",
       "    <tr>\n",
       "      <th>215061</th>\n",
       "      <td>47656</td>\n",
       "      <td>Tapentadol</td>\n",
       "      <td>Pain</td>\n",
       "      <td>\"I was prescribed Nucynta for severe neck/shou...</td>\n",
       "      <td>1.0</td>\n",
       "      <td>November 28, 2011</td>\n",
       "      <td>20</td>\n",
       "    </tr>\n",
       "    <tr>\n",
       "      <th>215062</th>\n",
       "      <td>113712</td>\n",
       "      <td>Arthrotec</td>\n",
       "      <td>Sciatica</td>\n",
       "      <td>\"It works!!!\"</td>\n",
       "      <td>9.0</td>\n",
       "      <td>September 13, 2009</td>\n",
       "      <td>46</td>\n",
       "    </tr>\n",
       "  </tbody>\n",
       "</table>\n",
       "<p>215063 rows × 7 columns</p>\n",
       "</div>"
      ],
      "text/plain": [
       "        Unnamed: 0                  drugName                     condition  \\\n",
       "0           206461                 Valsartan  Left Ventricular Dysfunction   \n",
       "1            95260                Guanfacine                          ADHD   \n",
       "2            92703                    Lybrel                 Birth Control   \n",
       "3           138000                Ortho Evra                 Birth Control   \n",
       "4            35696  Buprenorphine / naloxone             Opiate Dependence   \n",
       "...            ...                       ...                           ...   \n",
       "215058      159999                 Tamoxifen     Breast Cancer, Prevention   \n",
       "215059      140714              Escitalopram                       Anxiety   \n",
       "215060      130945            Levonorgestrel                 Birth Control   \n",
       "215061       47656                Tapentadol                          Pain   \n",
       "215062      113712                 Arthrotec                      Sciatica   \n",
       "\n",
       "                                                   review  rating  \\\n",
       "0       \"It has no side effect, I take it in combinati...     9.0   \n",
       "1       \"My son is halfway through his fourth week of ...     8.0   \n",
       "2       \"I used to take another oral contraceptive, wh...     5.0   \n",
       "3       \"This is my first time using any form of birth...     8.0   \n",
       "4       \"Suboxone has completely turned my life around...     9.0   \n",
       "...                                                   ...     ...   \n",
       "215058  \"I have taken Tamoxifen for 5 years. Side effe...    10.0   \n",
       "215059  \"I&#039;ve been taking Lexapro (escitaploprgra...     9.0   \n",
       "215060  \"I&#039;m married, 34 years old and I have no ...     8.0   \n",
       "215061  \"I was prescribed Nucynta for severe neck/shou...     1.0   \n",
       "215062                                      \"It works!!!\"     9.0   \n",
       "\n",
       "                      date  usefulCount  \n",
       "0             May 20, 2012           27  \n",
       "1           April 27, 2010          192  \n",
       "2        December 14, 2009           17  \n",
       "3         November 3, 2015           10  \n",
       "4        November 27, 2016           37  \n",
       "...                    ...          ...  \n",
       "215058  September 13, 2014           43  \n",
       "215059     October 8, 2016           11  \n",
       "215060   November 15, 2010            7  \n",
       "215061   November 28, 2011           20  \n",
       "215062  September 13, 2009           46  \n",
       "\n",
       "[215063 rows x 7 columns]"
      ]
     },
     "execution_count": 77,
     "metadata": {},
     "output_type": "execute_result"
    }
   ],
   "source": [
    "input_data"
   ]
  },
  {
   "cell_type": "code",
   "execution_count": 78,
   "metadata": {},
   "outputs": [
    {
     "data": {
      "text/plain": [
       "(215063, 7)"
      ]
     },
     "execution_count": 78,
     "metadata": {},
     "output_type": "execute_result"
    }
   ],
   "source": [
    "input_data.shape"
   ]
  },
  {
   "cell_type": "markdown",
   "metadata": {},
   "source": [
    "Getting count of conditions with reviews greater than equal to 10"
   ]
  },
  {
   "cell_type": "code",
   "execution_count": 79,
   "metadata": {},
   "outputs": [],
   "source": [
    "x = list(input_data.groupby('condition').count()['review']>9)"
   ]
  },
  {
   "cell_type": "code",
   "execution_count": 80,
   "metadata": {},
   "outputs": [
    {
     "name": "stdout",
     "output_type": "stream",
     "text": [
      "480\n"
     ]
    }
   ],
   "source": [
    "count = 0\n",
    "for z in x:\n",
    "    if z==True:\n",
    "        count+=1\n",
    "print(count)"
   ]
  },
  {
   "cell_type": "markdown",
   "metadata": {},
   "source": [
    "Getting count of drugName with reviews greater than equal to 10"
   ]
  },
  {
   "cell_type": "code",
   "execution_count": 81,
   "metadata": {},
   "outputs": [],
   "source": [
    "x = list(input_data.groupby('drugName').count()['review']>9)"
   ]
  },
  {
   "cell_type": "code",
   "execution_count": 82,
   "metadata": {},
   "outputs": [
    {
     "name": "stdout",
     "output_type": "stream",
     "text": [
      "1548\n"
     ]
    }
   ],
   "source": [
    "count = 0\n",
    "for z in x:\n",
    "    if z==True:\n",
    "        count+=1\n",
    "print(count)"
   ]
  },
  {
   "cell_type": "markdown",
   "metadata": {},
   "source": [
    "Keep condition which have greater than equal to 10 instances\n",
    "and have max 20 sample of each"
   ]
  },
  {
   "cell_type": "code",
   "execution_count": 83,
   "metadata": {},
   "outputs": [],
   "source": [
    "def limit_count_per_column(df, column, low=10, high=20):\n",
    "    in_limits_df =  df.groupby(column).filter(lambda x: high>=len(x)>=low)\n",
    "    gt_limit_columns = list(df.groupby(column).filter(lambda x: len(x)>high)[column].unique())\n",
    "    for column_val in gt_limit_columns:\n",
    "        in_limits_df = pd.concat([in_limits_df,resample(df[df[column]==column_val]\n",
    "                                                      ,replace=False,n_samples=20,random_state=100)])\n",
    "    in_limits_df = in_limits_df.reset_index(drop=True)\n",
    "    return in_limits_df"
   ]
  },
  {
   "cell_type": "code",
   "execution_count": 84,
   "metadata": {},
   "outputs": [],
   "source": [
    "input_data = limit_count_per_column(input_data, 'condition')"
   ]
  },
  {
   "cell_type": "code",
   "execution_count": 85,
   "metadata": {},
   "outputs": [
    {
     "data": {
      "text/plain": [
       "(8920, 7)"
      ]
     },
     "execution_count": 85,
     "metadata": {},
     "output_type": "execute_result"
    }
   ],
   "source": [
    "input_data.shape"
   ]
  },
  {
   "cell_type": "code",
   "execution_count": 86,
   "metadata": {},
   "outputs": [
    {
     "data": {
      "text/html": [
       "<div>\n",
       "<style scoped>\n",
       "    .dataframe tbody tr th:only-of-type {\n",
       "        vertical-align: middle;\n",
       "    }\n",
       "\n",
       "    .dataframe tbody tr th {\n",
       "        vertical-align: top;\n",
       "    }\n",
       "\n",
       "    .dataframe thead th {\n",
       "        text-align: right;\n",
       "    }\n",
       "</style>\n",
       "<table border=\"1\" class=\"dataframe\">\n",
       "  <thead>\n",
       "    <tr style=\"text-align: right;\">\n",
       "      <th></th>\n",
       "      <th>Unnamed: 0</th>\n",
       "      <th>drugName</th>\n",
       "      <th>condition</th>\n",
       "      <th>review</th>\n",
       "      <th>rating</th>\n",
       "      <th>date</th>\n",
       "      <th>usefulCount</th>\n",
       "    </tr>\n",
       "  </thead>\n",
       "  <tbody>\n",
       "    <tr>\n",
       "      <th>0</th>\n",
       "      <td>34093</td>\n",
       "      <td>Zoledronic acid</td>\n",
       "      <td>Osteolytic Bone Metastases of Solid Tumors</td>\n",
       "      <td>\"I dreaded the side-effects and had NONE.  I h...</td>\n",
       "      <td>10.0</td>\n",
       "      <td>January 25, 2012</td>\n",
       "      <td>31</td>\n",
       "    </tr>\n",
       "    <tr>\n",
       "      <th>1</th>\n",
       "      <td>97654</td>\n",
       "      <td>Methimazole</td>\n",
       "      <td>Hyperthyroidism</td>\n",
       "      <td>\"My 6yr old daughter and I have been dealing w...</td>\n",
       "      <td>4.0</td>\n",
       "      <td>July 11, 2016</td>\n",
       "      <td>3</td>\n",
       "    </tr>\n",
       "    <tr>\n",
       "      <th>2</th>\n",
       "      <td>184954</td>\n",
       "      <td>Trolamine salicylate</td>\n",
       "      <td>Bursitis</td>\n",
       "      <td>\"Did help relieve some of the pain temporarily...</td>\n",
       "      <td>7.0</td>\n",
       "      <td>April 19, 2009</td>\n",
       "      <td>25</td>\n",
       "    </tr>\n",
       "    <tr>\n",
       "      <th>3</th>\n",
       "      <td>196987</td>\n",
       "      <td>Paroxetine</td>\n",
       "      <td>Trichotillomania</td>\n",
       "      <td>\"I have OCD, anxiety, and ADHD. I also pick my...</td>\n",
       "      <td>10.0</td>\n",
       "      <td>April 26, 2016</td>\n",
       "      <td>15</td>\n",
       "    </tr>\n",
       "    <tr>\n",
       "      <th>4</th>\n",
       "      <td>35476</td>\n",
       "      <td>Phenol</td>\n",
       "      <td>Sore Throat</td>\n",
       "      <td>\"I will personally attest to this,,,\\r\\n33 yea...</td>\n",
       "      <td>6.0</td>\n",
       "      <td>November 5, 2016</td>\n",
       "      <td>7</td>\n",
       "    </tr>\n",
       "    <tr>\n",
       "      <th>...</th>\n",
       "      <td>...</td>\n",
       "      <td>...</td>\n",
       "      <td>...</td>\n",
       "      <td>...</td>\n",
       "      <td>...</td>\n",
       "      <td>...</td>\n",
       "      <td>...</td>\n",
       "    </tr>\n",
       "    <tr>\n",
       "      <th>8915</th>\n",
       "      <td>22696</td>\n",
       "      <td>Midodrine</td>\n",
       "      <td>Postural Orthostatic Tachycardia Syndrome</td>\n",
       "      <td>\"Didn&amp;#039;t seem to lower my heart rate very ...</td>\n",
       "      <td>3.0</td>\n",
       "      <td>October 1, 2010</td>\n",
       "      <td>34</td>\n",
       "    </tr>\n",
       "    <tr>\n",
       "      <th>8916</th>\n",
       "      <td>46963</td>\n",
       "      <td>Fludrocortisone</td>\n",
       "      <td>Postural Orthostatic Tachycardia Syndrome</td>\n",
       "      <td>\"I have taken this medicine along with Toprol-...</td>\n",
       "      <td>10.0</td>\n",
       "      <td>August 10, 2010</td>\n",
       "      <td>14</td>\n",
       "    </tr>\n",
       "    <tr>\n",
       "      <th>8917</th>\n",
       "      <td>41794</td>\n",
       "      <td>Clonidine</td>\n",
       "      <td>Postural Orthostatic Tachycardia Syndrome</td>\n",
       "      <td>\"Very useful for helping to level out the surg...</td>\n",
       "      <td>9.0</td>\n",
       "      <td>May 18, 2013</td>\n",
       "      <td>23</td>\n",
       "    </tr>\n",
       "    <tr>\n",
       "      <th>8918</th>\n",
       "      <td>163400</td>\n",
       "      <td>Methylphenidate</td>\n",
       "      <td>Postural Orthostatic Tachycardia Syndrome</td>\n",
       "      <td>\"Two months ago, I was unable to work or to dr...</td>\n",
       "      <td>8.0</td>\n",
       "      <td>January 16, 2017</td>\n",
       "      <td>5</td>\n",
       "    </tr>\n",
       "    <tr>\n",
       "      <th>8919</th>\n",
       "      <td>22687</td>\n",
       "      <td>Midodrine</td>\n",
       "      <td>Postural Orthostatic Tachycardia Syndrome</td>\n",
       "      <td>\"I have been diagnosed with Dysautonomia &amp;amp;...</td>\n",
       "      <td>8.0</td>\n",
       "      <td>October 3, 2015</td>\n",
       "      <td>12</td>\n",
       "    </tr>\n",
       "  </tbody>\n",
       "</table>\n",
       "<p>8920 rows × 7 columns</p>\n",
       "</div>"
      ],
      "text/plain": [
       "      Unnamed: 0              drugName  \\\n",
       "0          34093       Zoledronic acid   \n",
       "1          97654           Methimazole   \n",
       "2         184954  Trolamine salicylate   \n",
       "3         196987            Paroxetine   \n",
       "4          35476                Phenol   \n",
       "...          ...                   ...   \n",
       "8915       22696             Midodrine   \n",
       "8916       46963       Fludrocortisone   \n",
       "8917       41794             Clonidine   \n",
       "8918      163400       Methylphenidate   \n",
       "8919       22687             Midodrine   \n",
       "\n",
       "                                       condition  \\\n",
       "0     Osteolytic Bone Metastases of Solid Tumors   \n",
       "1                                Hyperthyroidism   \n",
       "2                                       Bursitis   \n",
       "3                               Trichotillomania   \n",
       "4                                    Sore Throat   \n",
       "...                                          ...   \n",
       "8915   Postural Orthostatic Tachycardia Syndrome   \n",
       "8916   Postural Orthostatic Tachycardia Syndrome   \n",
       "8917   Postural Orthostatic Tachycardia Syndrome   \n",
       "8918   Postural Orthostatic Tachycardia Syndrome   \n",
       "8919   Postural Orthostatic Tachycardia Syndrome   \n",
       "\n",
       "                                                 review  rating  \\\n",
       "0     \"I dreaded the side-effects and had NONE.  I h...    10.0   \n",
       "1     \"My 6yr old daughter and I have been dealing w...     4.0   \n",
       "2     \"Did help relieve some of the pain temporarily...     7.0   \n",
       "3     \"I have OCD, anxiety, and ADHD. I also pick my...    10.0   \n",
       "4     \"I will personally attest to this,,,\\r\\n33 yea...     6.0   \n",
       "...                                                 ...     ...   \n",
       "8915  \"Didn&#039;t seem to lower my heart rate very ...     3.0   \n",
       "8916  \"I have taken this medicine along with Toprol-...    10.0   \n",
       "8917  \"Very useful for helping to level out the surg...     9.0   \n",
       "8918  \"Two months ago, I was unable to work or to dr...     8.0   \n",
       "8919  \"I have been diagnosed with Dysautonomia &amp;...     8.0   \n",
       "\n",
       "                  date  usefulCount  \n",
       "0     January 25, 2012           31  \n",
       "1        July 11, 2016            3  \n",
       "2       April 19, 2009           25  \n",
       "3       April 26, 2016           15  \n",
       "4     November 5, 2016            7  \n",
       "...                ...          ...  \n",
       "8915   October 1, 2010           34  \n",
       "8916   August 10, 2010           14  \n",
       "8917      May 18, 2013           23  \n",
       "8918  January 16, 2017            5  \n",
       "8919   October 3, 2015           12  \n",
       "\n",
       "[8920 rows x 7 columns]"
      ]
     },
     "execution_count": 86,
     "metadata": {},
     "output_type": "execute_result"
    }
   ],
   "source": [
    "input_data"
   ]
  },
  {
   "cell_type": "markdown",
   "metadata": {},
   "source": [
    "Cluster Train split using Stratification"
   ]
  },
  {
   "cell_type": "code",
   "execution_count": 87,
   "metadata": {},
   "outputs": [],
   "source": [
    "y = list(input_data['condition'])"
   ]
  },
  {
   "cell_type": "code",
   "execution_count": 88,
   "metadata": {},
   "outputs": [],
   "source": [
    "def get_train_and_cluster_data(df, y, stratify_column='condition', cluster_ratio=4/5):    \n",
    "    x_train, x_cluster, y_train, y_cluster = train_test_split(df, y, stratify = df[stratify_column], \n",
    "                                                              test_size = cluster_ratio, random_state=42)\n",
    "    x_train = x_train.reset_index(drop=True)\n",
    "    x_cluster = x_cluster.reset_index(drop=True)\n",
    "    return x_train, x_cluster, y_train, y_cluster"
   ]
  },
  {
   "cell_type": "code",
   "execution_count": 89,
   "metadata": {},
   "outputs": [],
   "source": [
    "x_train, x_cluster, y_train, y_cluster = get_train_and_cluster_data(input_data, y)"
   ]
  },
  {
   "cell_type": "code",
   "execution_count": 90,
   "metadata": {},
   "outputs": [
    {
     "data": {
      "text/plain": [
       "((1784, 7), (7136, 7))"
      ]
     },
     "execution_count": 90,
     "metadata": {},
     "output_type": "execute_result"
    }
   ],
   "source": [
    "x_train.shape, x_cluster.shape"
   ]
  },
  {
   "cell_type": "markdown",
   "metadata": {},
   "source": [
    "Cleaning and pre processing, using review as input and condition as output"
   ]
  },
  {
   "cell_type": "code",
   "execution_count": 91,
   "metadata": {},
   "outputs": [
    {
     "data": {
      "text/plain": [
       "480"
      ]
     },
     "execution_count": 91,
     "metadata": {},
     "output_type": "execute_result"
    }
   ],
   "source": [
    "len(set(y_train))"
   ]
  },
  {
   "cell_type": "code",
   "execution_count": 92,
   "metadata": {},
   "outputs": [
    {
     "data": {
      "text/plain": [
       "480"
      ]
     },
     "execution_count": 92,
     "metadata": {},
     "output_type": "execute_result"
    }
   ],
   "source": [
    "len(set(y_cluster))"
   ]
  },
  {
   "cell_type": "code",
   "execution_count": 93,
   "metadata": {},
   "outputs": [],
   "source": [
    "def clean_str(string):\n",
    "    string = re.sub(r\"\\\\\",\"\",string)\n",
    "    string = re.sub(r\"\\'\",\"\",string)\n",
    "    string = re.sub(r\"\\\"\",\"\",string)\n",
    "    return string.strip().lower()"
   ]
  },
  {
   "cell_type": "code",
   "execution_count": 94,
   "metadata": {},
   "outputs": [],
   "source": [
    "for idx in range(x_train.review.shape[0]):\n",
    "    text = x_train.review[idx][1:-1]\n",
    "    text = clean_str(text)\n",
    "    texts.append(text)\n",
    "    sentences = tokenize.sent_tokenize(text)\n",
    "    reviews.append(sentences)\n",
    "    labels.append(x_train.condition[idx])"
   ]
  },
  {
   "cell_type": "code",
   "execution_count": 95,
   "metadata": {},
   "outputs": [],
   "source": [
    "tokenizer = Tokenizer(num_words = max_words)\n",
    "tokenizer.fit_on_texts(texts)"
   ]
  },
  {
   "cell_type": "code",
   "execution_count": 96,
   "metadata": {},
   "outputs": [],
   "source": [
    "train_data = np.zeros((len(texts), max_sentences, maxlen), dtype='int32')"
   ]
  },
  {
   "cell_type": "code",
   "execution_count": 97,
   "metadata": {},
   "outputs": [],
   "source": [
    "for i, sentences in enumerate(reviews):\n",
    "    for j, sent in enumerate(sentences):\n",
    "        if j < max_sentences:\n",
    "            wordTokens = text_to_word_sequence(sent)\n",
    "            k=0\n",
    "            for _, word in enumerate(wordTokens):\n",
    "                if k < maxlen and tokenizer.word_index[word] < max_words:\n",
    "                    train_data[i, j, k] = tokenizer.word_index[word]\n",
    "                    k=k+1"
   ]
  },
  {
   "cell_type": "code",
   "execution_count": 98,
   "metadata": {},
   "outputs": [
    {
     "name": "stdout",
     "output_type": "stream",
     "text": [
      "Total 8232 unique tokens.\n"
     ]
    }
   ],
   "source": [
    "word_index = tokenizer.word_index\n",
    "print('Total %s unique tokens.' % len(word_index))"
   ]
  },
  {
   "cell_type": "code",
   "execution_count": 99,
   "metadata": {},
   "outputs": [],
   "source": [
    "le = preprocessing.LabelEncoder()\n",
    "le.fit(labels)\n",
    "labels = le.transform(labels)"
   ]
  },
  {
   "cell_type": "code",
   "execution_count": 100,
   "metadata": {},
   "outputs": [
    {
     "data": {
      "text/plain": [
       "array([315, 259, 438, ..., 367, 381, 279])"
      ]
     },
     "execution_count": 100,
     "metadata": {},
     "output_type": "execute_result"
    }
   ],
   "source": [
    "labels"
   ]
  },
  {
   "cell_type": "code",
   "execution_count": 101,
   "metadata": {},
   "outputs": [
    {
     "name": "stdout",
     "output_type": "stream",
     "text": [
      "unique conditions: 480\n"
     ]
    }
   ],
   "source": [
    "print('unique conditions:', len(set(labels)))"
   ]
  },
  {
   "cell_type": "code",
   "execution_count": 102,
   "metadata": {},
   "outputs": [
    {
     "name": "stdout",
     "output_type": "stream",
     "text": [
      "Shape of reviews (data) tensor: (1784, 15, 100)\n",
      "Shape of condition (label) tensor: (1784,)\n"
     ]
    }
   ],
   "source": [
    "print('Shape of reviews (data) tensor:', train_data.shape)\n",
    "print('Shape of condition (label) tensor:', labels.shape)"
   ]
  },
  {
   "cell_type": "code",
   "execution_count": 103,
   "metadata": {},
   "outputs": [],
   "source": [
    "indices = np.arange(train_data.shape[0])\n",
    "np.random.shuffle(indices)\n",
    "train_data = train_data[indices]\n",
    "labels = labels[indices]"
   ]
  },
  {
   "cell_type": "markdown",
   "metadata": {},
   "source": [
    "Using pre available glove embeddings"
   ]
  },
  {
   "cell_type": "code",
   "execution_count": 104,
   "metadata": {},
   "outputs": [],
   "source": [
    "f = open(os.path.join('./', 'glove.6B.100d.txt'))\n",
    "for line in f:\n",
    "    values = line.split()\n",
    "    word = values[0]\n",
    "    coefs = np.asarray(values[1:], dtype='float32')\n",
    "    embeddings_index[word]=coefs\n",
    "f.close()"
   ]
  },
  {
   "cell_type": "code",
   "execution_count": 105,
   "metadata": {},
   "outputs": [
    {
     "name": "stdout",
     "output_type": "stream",
     "text": [
      "Total 400000 word vectors. in pre available glove embeddings\n"
     ]
    }
   ],
   "source": [
    "print('Total %s word vectors. in pre available glove embeddings' % len(embeddings_index))"
   ]
  },
  {
   "cell_type": "code",
   "execution_count": 106,
   "metadata": {},
   "outputs": [],
   "source": [
    "embedding_matrix = np.random.random((len(word_index)+1, embedding_dim))\n",
    "for word, i in word_index.items():\n",
    "    embedding_vector = embeddings_index.get(word)\n",
    "    if embedding_vector is not None:\n",
    "        # words not found in embedding index will be all-zeroes\n",
    "        embedding_matrix[i] = embedding_vector"
   ]
  },
  {
   "cell_type": "code",
   "execution_count": 107,
   "metadata": {},
   "outputs": [],
   "source": [
    "embedding_layer = Embedding(len(word_index)+1, embedding_dim, weights=[embedding_matrix],\n",
    "                           input_length=maxlen, trainable=True,mask_zero=True)"
   ]
  },
  {
   "cell_type": "code",
   "execution_count": 108,
   "metadata": {},
   "outputs": [],
   "source": [
    "labels = to_categorical(labels)"
   ]
  },
  {
   "cell_type": "markdown",
   "metadata": {},
   "source": [
    "Attention training and final clustering"
   ]
  },
  {
   "cell_type": "code",
   "execution_count": 109,
   "metadata": {},
   "outputs": [],
   "source": [
    "x_train = train_data\n",
    "y_train = labels"
   ]
  },
  {
   "cell_type": "code",
   "execution_count": 110,
   "metadata": {},
   "outputs": [],
   "source": [
    "sentence_input = Input(shape=(maxlen,), dtype='int32')\n",
    "embedded_sequences = embedding_layer(sentence_input)\n",
    "lstm_word = Bidirectional(GRU(100, return_sequences=True))(embedded_sequences)\n",
    "attn_word = Attention(100)(lstm_word)\n",
    "sentenceEncoder = Model(sentence_input, attn_word)"
   ]
  },
  {
   "cell_type": "code",
   "execution_count": 111,
   "metadata": {},
   "outputs": [],
   "source": [
    "review_input = Input(shape=(max_sentences, maxlen), dtype='int32')\n",
    "review_encoder = TimeDistributed(sentenceEncoder)(review_input)\n",
    "lstm_sentence = Bidirectional(GRU(100, return_sequences=True))(review_encoder)\n",
    "attn_sentence = Attention(100)(lstm_sentence)\n",
    "preds = Dense(y_train.shape[1], activation='softmax')(attn_sentence)\n",
    "model = Model(review_input, preds)"
   ]
  },
  {
   "cell_type": "code",
   "execution_count": 112,
   "metadata": {},
   "outputs": [],
   "source": [
    "model.compile(loss='categorical_crossentropy', optimizer='adam', metrics=['acc'])"
   ]
  },
  {
   "cell_type": "code",
   "execution_count": 113,
   "metadata": {},
   "outputs": [
    {
     "name": "stdout",
     "output_type": "stream",
     "text": [
      "model fitting - HAN\n",
      "Epoch 1/30\n",
      "1784/1784 [==============================] - 4s 2ms/step - loss: 6.1855 - acc: 0.0022\n",
      "Epoch 2/30\n",
      "1784/1784 [==============================] - 3s 1ms/step - loss: 6.1627 - acc: 0.0034\n",
      "Epoch 3/30\n",
      "1784/1784 [==============================] - 3s 1ms/step - loss: 6.1386 - acc: 0.0011\n",
      "Epoch 4/30\n",
      "1784/1784 [==============================] - 3s 1ms/step - loss: 6.0785 - acc: 0.0073\n",
      "Epoch 5/30\n",
      "1784/1784 [==============================] - 3s 1ms/step - loss: 5.9443 - acc: 0.0191\n",
      "Epoch 6/30\n",
      "1784/1784 [==============================] - 3s 1ms/step - loss: 5.6804 - acc: 0.0348\n",
      "Epoch 7/30\n",
      "1784/1784 [==============================] - 3s 1ms/step - loss: 5.2978 - acc: 0.0712\n",
      "Epoch 8/30\n",
      "1784/1784 [==============================] - 3s 1ms/step - loss: 4.8499 - acc: 0.1312\n",
      "Epoch 9/30\n",
      "1784/1784 [==============================] - 3s 1ms/step - loss: 4.3857 - acc: 0.2444\n",
      "Epoch 10/30\n",
      "1784/1784 [==============================] - 3s 1ms/step - loss: 3.9244 - acc: 0.3537\n",
      "Epoch 11/30\n",
      "1784/1784 [==============================] - 3s 1ms/step - loss: 3.4596 - acc: 0.4596\n",
      "Epoch 12/30\n",
      "1784/1784 [==============================] - 3s 1ms/step - loss: 3.0175 - acc: 0.5785\n",
      "Epoch 13/30\n",
      "1784/1784 [==============================] - 3s 1ms/step - loss: 2.6163 - acc: 0.6682\n",
      "Epoch 14/30\n",
      "1784/1784 [==============================] - 3s 1ms/step - loss: 2.2531 - acc: 0.7354\n",
      "Epoch 15/30\n",
      "1784/1784 [==============================] - 3s 1ms/step - loss: 1.9287 - acc: 0.7999\n",
      "Epoch 16/30\n",
      "1784/1784 [==============================] - 3s 1ms/step - loss: 1.6284 - acc: 0.8447\n",
      "Epoch 17/30\n",
      "1784/1784 [==============================] - 3s 1ms/step - loss: 1.3585 - acc: 0.8845\n",
      "Epoch 18/30\n",
      "1784/1784 [==============================] - 3s 1ms/step - loss: 1.1349 - acc: 0.9182\n",
      "Epoch 19/30\n",
      "1784/1784 [==============================] - 3s 1ms/step - loss: 0.9487 - acc: 0.9339\n",
      "Epoch 20/30\n",
      "1784/1784 [==============================] - 3s 1ms/step - loss: 0.7966 - acc: 0.9473\n",
      "Epoch 21/30\n",
      "1784/1784 [==============================] - 3s 1ms/step - loss: 0.6710 - acc: 0.9596\n",
      "Epoch 22/30\n",
      "1784/1784 [==============================] - 3s 1ms/step - loss: 0.5697 - acc: 0.9636\n",
      "Epoch 23/30\n",
      "1784/1784 [==============================] - 3s 1ms/step - loss: 0.4937 - acc: 0.9686\n",
      "Epoch 24/30\n",
      "1784/1784 [==============================] - 3s 1ms/step - loss: 0.4313 - acc: 0.9725\n",
      "Epoch 25/30\n",
      "1784/1784 [==============================] - 3s 1ms/step - loss: 0.3735 - acc: 0.9759\n",
      "Epoch 26/30\n",
      "1784/1784 [==============================] - 3s 1ms/step - loss: 0.3275 - acc: 0.9781\n",
      "Epoch 27/30\n",
      "1784/1784 [==============================] - 3s 1ms/step - loss: 0.2900 - acc: 0.9798\n",
      "Epoch 28/30\n",
      "1784/1784 [==============================] - 3s 1ms/step - loss: 0.2624 - acc: 0.9798\n",
      "Epoch 29/30\n",
      "1784/1784 [==============================] - 3s 1ms/step - loss: 0.2399 - acc: 0.9793\n",
      "Epoch 30/30\n",
      "1784/1784 [==============================] - 3s 1ms/step - loss: 0.2160 - acc: 0.9826\n"
     ]
    },
    {
     "data": {
      "text/plain": [
       "<keras.callbacks.History at 0x7f0161796750>"
      ]
     },
     "execution_count": 113,
     "metadata": {},
     "output_type": "execute_result"
    }
   ],
   "source": [
    "print(\"model fitting - HAN\")\n",
    "model.fit(x_train, y_train, epochs= 30, batch_size=100)"
   ]
  },
  {
   "cell_type": "code",
   "execution_count": 114,
   "metadata": {},
   "outputs": [],
   "source": [
    "model_vec = Model(inputs=review_input,outputs=attn_sentence)\n",
    "model_vec.compile(loss='categorical_crossentropy', optimizer='adam', metrics=['accuracy'])"
   ]
  },
  {
   "cell_type": "code",
   "execution_count": 115,
   "metadata": {},
   "outputs": [],
   "source": [
    "reviews = []\n",
    "labels = []\n",
    "texts = []"
   ]
  },
  {
   "cell_type": "code",
   "execution_count": 116,
   "metadata": {},
   "outputs": [],
   "source": [
    "for idx in range(x_cluster.review.shape[0]):\n",
    "    text = x_cluster.review[idx][1:-1]\n",
    "    text = clean_str(text)\n",
    "    texts.append(text)\n",
    "    sentences = tokenize.sent_tokenize(text)\n",
    "    reviews.append(sentences)\n",
    "    labels.append(x_cluster.condition[idx])"
   ]
  },
  {
   "cell_type": "code",
   "execution_count": 117,
   "metadata": {},
   "outputs": [],
   "source": [
    "tokenizer = Tokenizer(num_words = max_words)\n",
    "tokenizer.fit_on_texts(texts)"
   ]
  },
  {
   "cell_type": "code",
   "execution_count": 118,
   "metadata": {},
   "outputs": [],
   "source": [
    "cluster_data = np.zeros((len(texts), max_sentences, maxlen), dtype='int32')"
   ]
  },
  {
   "cell_type": "code",
   "execution_count": 119,
   "metadata": {},
   "outputs": [],
   "source": [
    "for i, sentences in enumerate(reviews):\n",
    "    for j, sent in enumerate(sentences):\n",
    "        if j < max_sentences:\n",
    "            wordTokens = text_to_word_sequence(sent)\n",
    "            k=0\n",
    "            for _, word in enumerate(wordTokens):\n",
    "                if k < maxlen and tokenizer.word_index[word] < max_words:\n",
    "                    cluster_data[i, j, k] = tokenizer.word_index[word]\n",
    "                    k=k+1"
   ]
  },
  {
   "cell_type": "code",
   "execution_count": 120,
   "metadata": {},
   "outputs": [
    {
     "name": "stdout",
     "output_type": "stream",
     "text": [
      "Total 14981 unique tokens.\n"
     ]
    }
   ],
   "source": [
    "word_index = tokenizer.word_index\n",
    "print('Total %s unique tokens.' % len(word_index))"
   ]
  },
  {
   "cell_type": "code",
   "execution_count": 121,
   "metadata": {},
   "outputs": [],
   "source": [
    "le = preprocessing.LabelEncoder()\n",
    "le.fit(labels)\n",
    "labels = le.transform(labels)"
   ]
  },
  {
   "cell_type": "code",
   "execution_count": 122,
   "metadata": {},
   "outputs": [],
   "source": [
    "indices = np.arange(cluster_data.shape[0])\n",
    "np.random.shuffle(indices)\n",
    "cluster_data = cluster_data[indices]\n",
    "labels = labels[indices]"
   ]
  },
  {
   "cell_type": "code",
   "execution_count": 123,
   "metadata": {},
   "outputs": [],
   "source": [
    "x_clustering_vec = model_vec.predict(cluster_data)"
   ]
  },
  {
   "cell_type": "code",
   "execution_count": 124,
   "metadata": {},
   "outputs": [
    {
     "data": {
      "text/plain": [
       "array([ 0.73663175, -0.82537705,  0.91881293, -0.42616445, -0.7864666 ,\n",
       "       -0.7879964 , -0.91115975,  0.21598653, -0.84885246,  0.96403295,\n",
       "       -0.9788814 , -0.9991316 ,  0.9910841 ,  0.9535535 ,  0.9926792 ,\n",
       "        0.7651317 , -0.8884893 , -0.45337477, -0.04644284, -0.99557185,\n",
       "       -0.8354087 ,  0.33604112, -0.25289264,  0.41226253,  0.98796266,\n",
       "        0.546854  , -0.7768626 ,  0.5117133 , -0.99192685, -0.8599551 ,\n",
       "       -0.9994905 ,  0.9976667 , -0.99804235,  0.9993528 ,  0.86651146,\n",
       "       -0.9828228 , -0.93287396, -0.99988204, -0.9948894 , -0.985839  ,\n",
       "        0.9981104 , -0.98251915,  0.50683874,  0.12666464, -0.9971492 ,\n",
       "       -0.3326512 ,  0.892208  , -0.96916544,  0.9566879 , -0.99169964,\n",
       "        0.95521784,  0.6100053 ,  0.99807096,  0.9996549 , -0.9864642 ,\n",
       "       -0.67341626,  0.47029898,  0.77377707,  0.3657091 , -0.9987541 ,\n",
       "        0.8949225 , -0.9632605 ,  0.12534456, -0.43649   , -0.9560354 ,\n",
       "        0.24979362,  0.9953846 ,  0.91985816, -0.9751837 , -0.9642641 ,\n",
       "       -0.22329597, -0.04544626, -0.90732557,  0.98522455, -0.99859047,\n",
       "       -0.9870223 , -0.0372683 , -0.96097314, -0.6481618 , -0.5200418 ,\n",
       "       -0.44755396, -0.79205173,  0.7188997 , -0.8837369 , -0.9436537 ,\n",
       "        0.6514513 ,  0.7479299 , -0.9858814 ,  0.99935025,  0.6430554 ,\n",
       "        0.92835575, -0.04899373,  0.98785126,  0.7865337 ,  0.9926945 ,\n",
       "       -0.9980507 ,  0.34784645, -0.9974388 , -0.9813862 , -0.3819204 ,\n",
       "       -0.9975952 , -0.9927675 , -0.863744  ,  0.03591001, -0.77210265,\n",
       "       -0.9959146 , -0.013016  ,  0.96867406, -0.9995024 , -0.7968068 ,\n",
       "        0.96087974, -0.11016742, -0.66208065,  0.9786833 ,  0.31435275,\n",
       "       -0.9843776 ,  0.8259642 , -0.07874036,  0.9861695 , -0.9675213 ,\n",
       "        0.9994074 ,  0.9575094 ,  0.29488575, -0.69002146,  0.05358122,\n",
       "        0.9969806 ,  0.3688587 ,  0.5844113 , -0.9855289 , -0.9789584 ,\n",
       "        0.53364587, -0.3086457 , -0.9992726 ,  0.96932405,  0.7375521 ,\n",
       "        0.5085204 , -0.928235  ,  0.998258  ,  0.4314286 ,  0.99967176,\n",
       "       -0.9993574 ,  0.9997587 , -0.5469955 , -0.8776226 , -0.40771005,\n",
       "       -0.90360534,  0.27775133, -0.2760312 ,  0.9422713 ,  0.9998078 ,\n",
       "       -0.9695305 ,  0.36589536, -0.17611699,  0.99678886,  0.18481407,\n",
       "       -0.9619605 ,  0.6065437 ,  0.9320611 , -0.5234604 ,  0.88528085,\n",
       "        0.521264  ,  0.88494456,  0.9771685 , -0.6468767 ,  0.9909062 ,\n",
       "        0.8728064 , -0.06487173, -0.9990183 ,  0.71882135, -0.63984525,\n",
       "        0.9448687 ,  0.969691  , -0.98394895, -0.9485881 , -0.99381614,\n",
       "        0.8918621 , -0.7028167 , -0.9942533 , -0.19826017, -0.28153053,\n",
       "       -0.68134093, -0.8804294 , -0.97190017, -0.96982753,  0.9998235 ,\n",
       "       -0.7815788 ,  0.96026134, -0.19876255, -0.9996852 ,  0.9885825 ,\n",
       "        0.77979964,  0.9707776 ,  0.7834773 , -0.9638186 , -0.9291348 ,\n",
       "       -0.77122885,  0.9814232 ,  0.7189994 ,  0.9928204 ,  0.96253586],\n",
       "      dtype=float32)"
      ]
     },
     "execution_count": 124,
     "metadata": {},
     "output_type": "execute_result"
    }
   ],
   "source": [
    "x_clustering_vec[0]"
   ]
  },
  {
   "cell_type": "markdown",
   "metadata": {},
   "source": [
    "Pre Clustering Analysis"
   ]
  },
  {
   "cell_type": "code",
   "execution_count": 125,
   "metadata": {},
   "outputs": [
    {
     "data": {
      "image/png": "[encoded data removed]",
      "text/plain": [
       "<Figure size 432x288 with 1 Axes>"
      ]
     },
     "metadata": {
      "needs_background": "light"
     },
     "output_type": "display_data"
    }
   ],
   "source": [
    "\n",
    "pca = PCA(n_components=2)\n",
    "reduced = pca.fit_transform(x_clustering_vec[:100])\n",
    "\n",
    "t = reduced.transpose()\n",
    "\n",
    "plt.scatter(t[0], t[1])\n",
    "plt.show()"
   ]
  },
  {
   "cell_type": "markdown",
   "metadata": {},
   "source": [
    "Clustering Models"
   ]
  },
  {
   "cell_type": "code",
   "execution_count": 128,
   "metadata": {},
   "outputs": [],
   "source": [
    "def k_means(data, n_clusters=480, max_iter=1000):\n",
    "    model = KMeans(n_clusters=n_clusters, max_iter=max_iter).fit(data)\n",
    "    return model\n",
    "def agglomerative_fn(data, n_clusters=480):\n",
    "    model = AgglomerativeClustering(n_clusters = n_clusters).fit(data)\n",
    "    return model\n",
    "def dbscan_fn(data, eps=0.45, min_samples=4):\n",
    "    model = DBSCAN(eps=eps, min_samples=min_samples).fit(data)\n",
    "    return model\n",
    "def mean_shift_fn(data, bandwidth=0.85):\n",
    "    model = MeanShift(bandwidth=bandwidth).fit(data)\n",
    "    return model\n",
    "def birch_fn(data, n_clusters=480):\n",
    "    model = Birch(n_clusters=n_clusters).fit(data)\n",
    "    return model\n",
    "def affinity_propagation_fn(data, damping=0.6, max_iter=1000):\n",
    "    model = AffinityPropagation(damping=damping, max_iter=max_iter).fit(data)\n",
    "    return model\n",
    "def mini_batch_kmeans_fn(data, n_clusters=480, max_iter=1000):\n",
    "    model = MiniBatchKMeans(n_clusters=n_clusters, max_iter=max_iter, batch_size=20).fit(data)\n",
    "    return model"
   ]
  },
  {
   "cell_type": "code",
   "execution_count": 129,
   "metadata": {},
   "outputs": [],
   "source": [
    "def build_model(clustering_model, data, labels):\n",
    "    \n",
    "    model = clustering_model(data)\n",
    "\n",
    "    print('homo\\tcompl\\tv-meas\\tARI\\tAMI\\tsilhouette')\n",
    "    print(50 * '-')\n",
    "    \n",
    "    print('%.3f\\t%.3f\\t%.3f\\t%.3f\\t%.3f\\t%.3f'\n",
    "          %(metrics.homogeneity_score(labels, model.labels_),\n",
    "            metrics.completeness_score(labels, model.labels_),\n",
    "            metrics.v_measure_score(labels, model.labels_),\n",
    "            metrics.adjusted_rand_score(labels, model.labels_),\n",
    "            metrics.adjusted_mutual_info_score(labels,  model.labels_),\n",
    "            metrics.silhouette_score(data, model.labels_)))"
   ]
  },
  {
   "cell_type": "code",
   "execution_count": 130,
   "metadata": {},
   "outputs": [
    {
     "name": "stdout",
     "output_type": "stream",
     "text": [
      "homo\tcompl\tv-meas\tARI\tAMI\tsilhouette\n",
      "--------------------------------------------------\n",
      "0.567\t0.580\t0.574\t0.015\t0.057\t0.041\n"
     ]
    }
   ],
   "source": [
    "build_model(k_means, x_clustering_vec, labels)"
   ]
  },
  {
   "cell_type": "code",
   "execution_count": 131,
   "metadata": {},
   "outputs": [
    {
     "name": "stdout",
     "output_type": "stream",
     "text": [
      "homo\tcompl\tv-meas\tARI\tAMI\tsilhouette\n",
      "--------------------------------------------------\n",
      "0.580\t0.587\t0.583\t0.017\t0.062\t0.039\n"
     ]
    }
   ],
   "source": [
    "build_model(agglomerative_fn, x_clustering_vec, labels)"
   ]
  },
  {
   "cell_type": "code",
   "execution_count": 132,
   "metadata": {},
   "outputs": [
    {
     "name": "stdout",
     "output_type": "stream",
     "text": [
      "homo\tcompl\tv-meas\tARI\tAMI\tsilhouette\n",
      "--------------------------------------------------\n",
      "0.002\t0.566\t0.004\t0.000\t0.000\t-0.150\n"
     ]
    }
   ],
   "source": [
    "build_model(dbscan_fn, x_clustering_vec, labels)"
   ]
  },
  {
   "cell_type": "code",
   "execution_count": 133,
   "metadata": {},
   "outputs": [
    {
     "name": "stdout",
     "output_type": "stream",
     "text": [
      "homo\tcompl\tv-meas\tARI\tAMI\tsilhouette\n",
      "--------------------------------------------------\n",
      "0.999\t0.706\t0.827\t0.029\t0.053\t0.211\n"
     ]
    }
   ],
   "source": [
    "build_model(mean_shift_fn, x_clustering_vec, labels)"
   ]
  },
  {
   "cell_type": "code",
   "execution_count": 134,
   "metadata": {},
   "outputs": [
    {
     "name": "stdout",
     "output_type": "stream",
     "text": [
      "homo\tcompl\tv-meas\tARI\tAMI\tsilhouette\n",
      "--------------------------------------------------\n",
      "0.577\t0.585\t0.581\t0.017\t0.061\t0.038\n"
     ]
    }
   ],
   "source": [
    "build_model(birch_fn, x_clustering_vec, labels)"
   ]
  },
  {
   "cell_type": "code",
   "execution_count": 135,
   "metadata": {},
   "outputs": [
    {
     "name": "stdout",
     "output_type": "stream",
     "text": [
      "homo\tcompl\tv-meas\tARI\tAMI\tsilhouette\n",
      "--------------------------------------------------\n",
      "0.513\t0.558\t0.535\t0.013\t0.054\t0.023\n"
     ]
    }
   ],
   "source": [
    "build_model(affinity_propagation_fn, x_clustering_vec, labels)"
   ]
  },
  {
   "cell_type": "code",
   "execution_count": 136,
   "metadata": {},
   "outputs": [
    {
     "name": "stdout",
     "output_type": "stream",
     "text": [
      "homo\tcompl\tv-meas\tARI\tAMI\tsilhouette\n",
      "--------------------------------------------------\n",
      "0.471\t0.539\t0.503\t0.010\t0.050\t-0.038\n"
     ]
    }
   ],
   "source": [
    "build_model(mini_batch_kmeans_fn, x_clustering_vec, labels)"
   ]
  }
 ],
 "metadata": {
  "kernelspec": {
   "display_name": "Python 3",
   "language": "python",
   "name": "python3"
  },
  "language_info": {
   "codemirror_mode": {
    "name": "ipython",
    "version": 3
   },
   "file_extension": ".py",
   "mimetype": "text/x-python",
   "name": "python",
   "nbconvert_exporter": "python",
   "pygments_lexer": "ipython3",
   "version": "3.7.3"
  }
 },
 "nbformat": 4,
 "nbformat_minor": 4
}
